{
 "cells": [
  {
   "cell_type": "markdown",
   "metadata": {},
   "source": [
    "# Dynamics of Double Pendulum"
   ]
  },
  {
   "cell_type": "markdown",
   "metadata": {},
   "source": [
    "*Deriving Equations of Motion of Double Pendulum* \n",
    " \n",
    " \n",
    " Derive the equations of motion of this system which is in the form of:\n",
    " \n",
    " $$M(q) \\ddot q + C(q, \\dot q) \\dot q + G(q) = 0$$ \n",
    " \n",
    " What are the formulas for matrices $M(q), C(q, \\dot q)$ and $G(q)$? "
   ]
  },
  {
   "cell_type": "code",
   "execution_count": 1,
   "metadata": {},
   "outputs": [],
   "source": [
    "from casadi import *"
   ]
  },
  {
   "cell_type": "code",
   "execution_count": 2,
   "metadata": {},
   "outputs": [],
   "source": [
    "m1 = MX.sym('m1')\n",
    "m2 = MX.sym('m2')\n",
    "l1 = MX.sym('l1')\n",
    "l2 = MX.sym('l2')\n",
    "g = MX.sym('g')\n",
    "\n",
    "q1 = MX.sym('q1')\n",
    "q2 = MX.sym('q2')\n",
    "dq1 = MX.sym('dq1')\n",
    "dq2 = MX.sym('dq2')\n",
    "ddq1 = MX.sym('ddq1')\n",
    "ddq2 = MX.sym('ddq2')"
   ]
  },
  {
   "cell_type": "markdown",
   "metadata": {},
   "source": [
    "%% Kinematics*:* \n",
    "% *Position and velocity of m1:*"
   ]
  },
  {
   "cell_type": "code",
   "execution_count": 4,
   "metadata": {},
   "outputs": [],
   "source": [
    "x1 = l1 * sin(q1)\n",
    "y1 = l1 * cos(q1)"
   ]
  },
  {
   "cell_type": "code",
   "execution_count": 10,
   "metadata": {},
   "outputs": [],
   "source": [
    "dx1 = gradient(x1, q1) * dq1\n",
    "dy1 = gradient(y1, q1) * dq1"
   ]
  },
  {
   "cell_type": "markdown",
   "metadata": {},
   "source": [
    "% *Position and velocity of m2:*"
   ]
  },
  {
   "cell_type": "code",
   "execution_count": 7,
   "metadata": {},
   "outputs": [],
   "source": [
    "x2 = l1 * sin(q1) + l2 * sin(q2)\n",
    "y2 = l1 * cos(q1) + l2 * cos(q2) \n",
    "dx2 = gradient(x2, q1) * dq1 + gradient(x2, q2) * dq2\n",
    "dy2 = gradient(y2, q1) * dq1 + gradient(y2, q2) * dq2"
   ]
  },
  {
   "cell_type": "markdown",
   "metadata": {},
   "source": [
    "%% Dynamics:\n",
    "% *Kinetic and potential energies of m1:*"
   ]
  },
  {
   "cell_type": "code",
   "execution_count": 13,
   "metadata": {},
   "outputs": [],
   "source": [
    "T1 = 0.5*m1*(dx1**2) "
   ]
  },
  {
   "cell_type": "code",
   "execution_count": 14,
   "metadata": {},
   "outputs": [],
   "source": [
    "V1 = -m1*y1*g"
   ]
  },
  {
   "cell_type": "markdown",
   "metadata": {},
   "source": [
    "% *Kinetic and potential energies of m2:*"
   ]
  },
  {
   "cell_type": "code",
   "execution_count": 15,
   "metadata": {},
   "outputs": [],
   "source": [
    "T2 = 0.5*m2*( dx2**2) \n",
    "V2 = -m2*y2*g"
   ]
  },
  {
   "cell_type": "markdown",
   "metadata": {},
   "source": [
    "%% Recall Lagrangian:\n",
    "% $$L(q, \\dot q) = T(q, \\dot q) - V(q)$$\n",
    "%% Lagrange equations of motion:\n",
    "% $\\frac{d}{dt}(\\frac{\\partial L}{\\partial \\dot q_i }) - \\frac{\\partial L}{\\partial q_i} = 0$           for i = 1, 2"
   ]
  },
  {
   "cell_type": "code",
   "execution_count": 16,
   "metadata": {},
   "outputs": [],
   "source": [
    "T =  T1 + T2\n",
    "V =  V1 + V2\n",
    "L = T - V"
   ]
  },
  {
   "cell_type": "markdown",
   "metadata": {},
   "source": [
    "% We use $dLddq$ as short for $\\frac{\\partial L}{\\partial \\dot q}$ and $dLdq$  for $\\frac{\\partial L}{\\partial q}$.     \n",
    "\n",
    "disp('-------------------------')\n",
    "disp('Calculate the partial derivatives of Lagrangian:')"
   ]
  },
  {
   "cell_type": "code",
   "execution_count": 17,
   "metadata": {},
   "outputs": [],
   "source": [
    "dLddq1 = gradient(L, dq1)\n",
    "dLddq2 = gradient(L, dq2)\n",
    "dLdq1 = gradient(L, q1)\n",
    "dLdq2 = gradient(L, q2)"
   ]
  },
  {
   "cell_type": "markdown",
   "metadata": {},
   "source": [
    "We use dLddq_dt for $\\frac{d}{dt}(\\frac{\\partial L}{\\partial \\dot q})$\n",
    ". This is to calculate the formula for $\\frac{d}{dt}(\\frac{\\partial L}{\\partial \n",
    " \\dot q_1})$:\n",
    "\n",
    "\n",
    "disp('-------------------------')"
   ]
  },
  {
   "cell_type": "code",
   "execution_count": 23,
   "metadata": {},
   "outputs": [],
   "source": [
    "dLddq1_dt = gradient(dLddq1, q1) * dq1 + gradient(dLddq1, q2) * dq2 + gradient(dLddq1, dq1) * ddq1 + gradient(dLddq1, dq2) * ddq2 "
   ]
  },
  {
   "cell_type": "code",
   "execution_count": 24,
   "metadata": {},
   "outputs": [],
   "source": [
    "dLddq2_dt = gradient(dLddq2, q1) * dq1 + gradient(dLddq2, q2) * dq2 + gradient(dLddq2, dq1) * ddq1 + gradient(dLddq2, dq2) * ddq2 "
   ]
  },
  {
   "cell_type": "markdown",
   "metadata": {},
   "source": [
    "% This is to calculate the formula for $\\frac{d}{dt}(\\frac{\\partial L}{\\partial \n",
    " \\dot q_2})$:"
   ]
  },
  {
   "cell_type": "code",
   "execution_count": 25,
   "metadata": {},
   "outputs": [
    {
     "name": "stdout",
     "output_type": "stream",
     "text": [
      "Calculate equations of motion: \n"
     ]
    }
   ],
   "source": [
    "print('Calculate equations of motion: ')\n",
    "Eq1 = dLddq1_dt - dLdq1\n",
    "Eq2 = dLddq2_dt - dLdq2"
   ]
  },
  {
   "cell_type": "code",
   "execution_count": null,
   "metadata": {},
   "outputs": [],
   "source": [
    "print('Calculate Mass matrix (M), Corriolis and gravity terms (C and  G):')\n",
    "% Eq = simplify(collect([Eq1; Eq2], [ddq1, ddq2, dq1, dq2])) "
   ]
  },
  {
   "cell_type": "code",
   "execution_count": null,
   "metadata": {},
   "outputs": [],
   "source": [
    "% G(1, 1) = % hint: you can use subs function \n",
    "% G(2, 1) = \n",
    "% \n",
    "% M(1, 1) = % hint: you can use subs function; don't forget to subtract the G term\n",
    "% M(1, 2) = \n",
    "% M(2, 1) = \n",
    "% M(2, 2) = \n",
    "% \n",
    "% C(1, 1) = \n",
    "% C(1, 2) = \n",
    "% C(2, 1) = \n",
    "% C(2, 2) = \n",
    "% M = % simplify M\n",
    "% C = % simplify C\n",
    "% G = % simplify G\n",
    "%% "
   ]
  },
  {
   "cell_type": "markdown",
   "metadata": {},
   "source": [
    "% Test that your calculation of M, C, and G is correct. Note that getting zero \n",
    "% for error only means that your extraction of the Matrices M, C, G matches the \n",
    "% equation Eq; it does not mean that all your calculations are correct. "
   ]
  },
  {
   "cell_type": "code",
   "execution_count": null,
   "metadata": {},
   "outputs": [],
   "source": [
    "% dq = [dq1; dq2];\n",
    "% ddq = [ddq1; ddq2];\n",
    "% Eq_new = M * ddq + C * dq + G;\n",
    "% error = simplify(Eq_new - Eq)"
   ]
  },
  {
   "cell_type": "markdown",
   "metadata": {},
   "source": [
    "% Calcualte the matrix D as follows. Compare the result with the Mass matrix \n",
    "% above. What do you conclude? "
   ]
  },
  {
   "cell_type": "code",
   "execution_count": null,
   "metadata": {},
   "outputs": [],
   "source": [
    "% D0 = jacobian(T, dq).';\n",
    "% D = jacobian(D0, dq)"
   ]
  }
 ],
 "metadata": {
  "kernelspec": {
   "display_name": "Python 3",
   "language": "python",
   "name": "python3"
  },
  "language_info": {
   "codemirror_mode": {
    "name": "ipython",
    "version": 3
   },
   "file_extension": ".py",
   "mimetype": "text/x-python",
   "name": "python",
   "nbconvert_exporter": "python",
   "pygments_lexer": "ipython3",
   "version": "3.8.3"
  }
 },
 "nbformat": 4,
 "nbformat_minor": 4
}
