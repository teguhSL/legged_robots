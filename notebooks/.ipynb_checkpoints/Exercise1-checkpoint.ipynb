{
 "cells": [
  {
   "cell_type": "markdown",
   "metadata": {},
   "source": [
    "# Dynamics of Double Pendulum"
   ]
  },
  {
   "cell_type": "markdown",
   "metadata": {},
   "source": [
    "*Deriving Equations of Motion of Double Pendulum* \n",
    " \n",
    " \n",
    " Derive the equations of motion of this system which is in the form of:\n",
    " \n",
    " $$M(q) \\ddot q + C(q, \\dot q) \\dot q + G(q) = 0$$ \n",
    " \n",
    " What are the formulas for matrices $M(q), C(q, \\dot q)$ and $G(q)$? "
   ]
  },
  {
   "cell_type": "code",
   "execution_count": 1,
   "metadata": {},
   "outputs": [],
   "source": [
    "from casadi import *"
   ]
  },
  {
   "cell_type": "code",
   "execution_count": 2,
   "metadata": {},
   "outputs": [],
   "source": [
    "m1 = MX.sym('m1')\n",
    "m2 = MX.sym('m2')\n",
    "l1 = MX.sym('l1')\n",
    "l2 = MX.sym('l2')\n",
    "g = MX.sym('g')\n",
    "\n",
    "q1 = MX.sym('q1')\n",
    "q2 = MX.sym('q2')\n",
    "dq1 = MX.sym('dq1')\n",
    "dq2 = MX.sym('dq2')\n",
    "ddq1 = MX.sym('ddq1')\n",
    "ddq2 = MX.sym('ddq2')"
   ]
  },
  {
   "cell_type": "markdown",
   "metadata": {},
   "source": [
    "### Kinematics\n",
    "#### Position and velocity of m1 & m2"
   ]
  },
  {
   "cell_type": "code",
   "execution_count": 5,
   "metadata": {},
   "outputs": [],
   "source": [
    "x1 = l1 * sin(q1)\n",
    "y1 = -l1 * cos(q1)\n",
    "dx1 = gradient(x1, q1) * dq1\n",
    "dy1 = gradient(y1, q1) * dq1\n",
    "\n",
    "x2 = l1 * sin(q1) + l2 * sin(q2)\n",
    "y2 = -l1 * cos(q1) + -l2 * cos(q2) \n",
    "dx2 = gradient(x2, q1) * dq1 + gradient(x2, q2) * dq2\n",
    "dy2 = gradient(y2, q1) * dq1 + gradient(y2, q2) * dq2"
   ]
  },
  {
   "cell_type": "markdown",
   "metadata": {},
   "source": [
    "### Dynamics:\n",
    "#### Kinetic and potential energies:"
   ]
  },
  {
   "cell_type": "code",
   "execution_count": 8,
   "metadata": {},
   "outputs": [],
   "source": [
    "T1 = 0.5*m1*(dx1**2 + dy1**2) \n",
    "V1 = m1*y1*g\n",
    "\n",
    "T2 = 0.5*m2*( dx2**2 + dy2**2) \n",
    "V2 = m2*y2*g"
   ]
  },
  {
   "cell_type": "markdown",
   "metadata": {},
   "source": [
    "### Recall Lagrangian:\n",
    " $$L(q, \\dot q) = T(q, \\dot q) - V(q)$$\n",
    " Lagrange equations of motion:\n",
    "\n",
    "$$\\frac{d}{dt}(\\frac{\\partial L}{\\partial \\dot q_i }) - \\frac{\\partial L}{\\partial q_i} = 0$$           for i = 1, 2"
   ]
  },
  {
   "cell_type": "code",
   "execution_count": 9,
   "metadata": {},
   "outputs": [],
   "source": [
    "T =  T1 + T2\n",
    "V =  V1 + V2\n",
    "L = T - V"
   ]
  },
  {
   "cell_type": "markdown",
   "metadata": {},
   "source": [
    "We use $dLddq$ as short for $\\frac{\\partial L}{\\partial \\dot q}$ and $dLdq$  for $\\frac{\\partial L}{\\partial q}$.     \n",
    "\n"
   ]
  },
  {
   "cell_type": "code",
   "execution_count": 10,
   "metadata": {},
   "outputs": [],
   "source": [
    "dLddq1 = gradient(L, dq1)\n",
    "dLddq2 = gradient(L, dq2)\n",
    "dLdq1 = gradient(L, q1)\n",
    "dLdq2 = gradient(L, q2)"
   ]
  },
  {
   "cell_type": "markdown",
   "metadata": {},
   "source": [
    "We use dLddq_dt for $\\frac{d}{dt}(\\frac{\\partial L}{\\partial \\dot q})$\n",
    ". This is to calculate the formula for $\\frac{d}{dt}(\\frac{\\partial L}{\\partial \n",
    " \\dot q_1})$:"
   ]
  },
  {
   "cell_type": "code",
   "execution_count": 11,
   "metadata": {},
   "outputs": [],
   "source": [
    "dLddq1_dt = gradient(dLddq1, q1) * dq1 + gradient(dLddq1, q2) * dq2 + gradient(dLddq1, dq1) * ddq1 + gradient(dLddq1, dq2) * ddq2 \n",
    "dLddq2_dt = gradient(dLddq2, q1) * dq1 + gradient(dLddq2, q2) * dq2 + gradient(dLddq2, dq1) * ddq1 + gradient(dLddq2, dq2) * ddq2 "
   ]
  },
  {
   "cell_type": "markdown",
   "metadata": {},
   "source": [
    "This is to calculate the formula for $\\frac{d}{dt}(\\frac{\\partial L}{\\partial \n",
    " \\dot q_2})$:"
   ]
  },
  {
   "cell_type": "code",
   "execution_count": 12,
   "metadata": {},
   "outputs": [],
   "source": [
    "Eq1 = dLddq1_dt - dLdq1\n",
    "Eq2 = dLddq2_dt - dLdq2\n",
    "Eq = vertcat(Eq1, Eq2)"
   ]
  },
  {
   "cell_type": "markdown",
   "metadata": {},
   "source": [
    "## Compare against analytical calculation"
   ]
  },
  {
   "cell_type": "code",
   "execution_count": 15,
   "metadata": {},
   "outputs": [],
   "source": [
    "G = MX.sym(\"G\", 2)\n",
    "M = MX.sym('M', 2,2)\n",
    "C = MX.sym('C', 2,2)\n",
    "\n",
    "G = vertcat(m1*g*l1*sin(q1) + m2*g*l1*sin(q1), m2*g*l2*sin(q2))\n",
    "\n",
    "M0 = horzcat(m1*l1**2 + m2*l1**2,m2*l1*l2*cos(q1-q2))\n",
    "M1 = horzcat(m2*l1*l2*cos(q1-q2), m2*l2**2)\n",
    "M = vertcat(M0, M1)\n",
    "\n",
    "C0 = horzcat(0,m2*l1*l2*dq2*sin(q1-q2))\n",
    "C1 = horzcat(-m2*l1*l2*dq1*sin(q1-q2),0)\n",
    "C = vertcat(C0,C1)\n",
    "\n",
    "dq = vertcat(dq1, dq2)\n",
    "ddq = vertcat(ddq1, ddq2)\n",
    "\n",
    "Eq_new = mtimes(M, ddq) + mtimes(C, dq) + G;\n",
    "error = (Eq_new - Eq)"
   ]
  },
  {
   "cell_type": "markdown",
   "metadata": {},
   "source": [
    "#### Comparing numerically"
   ]
  },
  {
   "cell_type": "code",
   "execution_count": 18,
   "metadata": {},
   "outputs": [],
   "source": [
    "Eq_val = Function(\"Eq_val\", [m1, l1,  m2, l2, g, ddq1, ddq2, dq1, dq2, q1,q2], [Eq])\n",
    "\n",
    "Eq_new_val = Function(\"Eq_new_val\", [m1, l1,  m2, l2, g, ddq1, ddq2, dq1, dq2, q1,q2], [Eq_new])\n",
    "\n",
    "error_val = Function(\"error\", [m1, l1,  m2, l2, g, ddq1, ddq2, dq1, dq2, q1,q2], [error])"
   ]
  },
  {
   "cell_type": "code",
   "execution_count": 29,
   "metadata": {},
   "outputs": [
    {
     "name": "stdout",
     "output_type": "stream",
     "text": [
      "[17.8101, 9.84111]\n",
      "[17.8101, 9.84111]\n",
      "[0, 0]\n"
     ]
    }
   ],
   "source": [
    "q1val = np.random.rand()\n",
    "q2val = np.random.rand()\n",
    "dq1val = np.random.rand()\n",
    "dq2val = np.random.rand()\n",
    "print(Eq_val(1,1,1,1,9.8,1,1,dq1val, dq2val, q1val, q2val))\n",
    "print(Eq_new_val(1,1,1,1,9.8,1,1,dq1val, dq2val, q1val, q2val))\n",
    "print(error_val(1,1,1,1,9.8,1,1,dq1val, dq2val, q1val, q2val))"
   ]
  },
  {
   "cell_type": "markdown",
   "metadata": {},
   "source": [
    "### Calcualte the matrix D as follows. Compare the result with the Mass matrix above. What do you conclude? "
   ]
  },
  {
   "cell_type": "code",
   "execution_count": 26,
   "metadata": {},
   "outputs": [],
   "source": [
    "D0 = jacobian(T,dq)\n",
    "D = jacobian(D0, dq)"
   ]
  },
  {
   "cell_type": "code",
   "execution_count": 27,
   "metadata": {},
   "outputs": [],
   "source": [
    "Dval = Function('Dval', [m1, l1,  m2, l2, g, ddq1, ddq2, dq1, dq2, q1,q2], [D])\n",
    "Mval = Function('Mval', [m1, l1,  m2, l2, g, ddq1, ddq2, dq1, dq2, q1,q2], [M])"
   ]
  },
  {
   "cell_type": "code",
   "execution_count": 28,
   "metadata": {},
   "outputs": [
    {
     "name": "stdout",
     "output_type": "stream",
     "text": [
      "\n",
      "[[2, 0.996968], \n",
      " [0.996968, 1]]\n",
      "\n",
      "[[2, 0.996968], \n",
      " [0.996968, 1]]\n"
     ]
    }
   ],
   "source": [
    "print(Dval(1,1,1,1,1,1,1,dq1val, dq2val, q1val, q2val))\n",
    "print(Mval(1,1,1,1,1,1,1,dq1val, dq2val, q1val, q2val))"
   ]
  },
  {
   "cell_type": "markdown",
   "metadata": {},
   "source": [
    "### Conclusion: the matrix M can be obtained as the second order derivative of the kinetic energy"
   ]
  }
 ],
 "metadata": {
  "kernelspec": {
   "display_name": "Python 3",
   "language": "python",
   "name": "python3"
  },
  "language_info": {
   "codemirror_mode": {
    "name": "ipython",
    "version": 2
   },
   "file_extension": ".py",
   "mimetype": "text/x-python",
   "name": "python",
   "nbconvert_exporter": "python",
   "pygments_lexer": "ipython2",
   "version": "2.7.12"
  }
 },
 "nbformat": 4,
 "nbformat_minor": 4
}
