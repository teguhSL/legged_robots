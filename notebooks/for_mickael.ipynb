{
 "cells": [
  {
   "cell_type": "markdown",
   "metadata": {},
   "source": [
    "# Kinematics, Dynamics, Visualization + Control"
   ]
  },
  {
   "cell_type": "code",
   "execution_count": 1,
   "metadata": {},
   "outputs": [],
   "source": [
    "import numpy as np\n",
    "from numpy import sin, cos\n",
    "import matplotlib.pyplot as plt\n",
    "import time\n",
    "from scipy.integrate import solve_ivp\n",
    "from sklearn.neighbors import NearestNeighbors\n",
    "from functools import partial\n",
    "\n",
    "from IPython.display import clear_output\n",
    "import pdb\n",
    "from utils import subsample\n",
    "\n",
    "from scipy.optimize import fmin\n",
    "\n",
    "\n",
    "\n",
    "np.set_printoptions(precision=4, suppress=True)\n",
    "%load_ext autoreload\n",
    "%autoreload 2"
   ]
  },
  {
   "cell_type": "raw",
   "metadata": {},
   "source": [
    "%matplotlib inline"
   ]
  },
  {
   "cell_type": "markdown",
   "metadata": {},
   "source": [
    "## Part 1: Standard Controller "
   ]
  },
  {
   "cell_type": "code",
   "execution_count": 2,
   "metadata": {},
   "outputs": [],
   "source": [
    "from ocp_sys import Biped_Casadi"
   ]
  },
  {
   "cell_type": "markdown",
   "metadata": {},
   "source": [
    "#### Try solving and analyse result"
   ]
  },
  {
   "cell_type": "code",
   "execution_count": 3,
   "metadata": {},
   "outputs": [],
   "source": [
    "%matplotlib qt"
   ]
  },
  {
   "cell_type": "code",
   "execution_count": 4,
   "metadata": {},
   "outputs": [],
   "source": [
    "biped = Biped_Casadi()\n",
    "\n",
    "#standard values with standard params\n",
    "q0 = np.array([np.pi/9, -np.pi/9, 0.])\n",
    "dq0 = np.array([0.,0.,8.])\n",
    "\n",
    "#standard values with already stable limit cycle\n",
    "# q0, dq0 = (np.array([-0.3035,  0.3608,  0.2487]), np.array([ 0.8319, -1.1396,  4.6439]))\n",
    "# qT, dqT = (np.array([ 0.3623, -0.3046,  0.2487]), np.array([ 2.4543, -1.8658, -0.2872]))\n",
    "# T = int(0.375/biped.dT)\n",
    "\n",
    "# #standard values with already (almost) stable limit cycle for ilqr\n",
    "q0, dq0 = (np.array([-0.3075,  0.3459,  0.2666]), np.array([ 0.8131, -1.1405,  5.0078]))\n",
    "qT, dqT = (np.array([ 0.3623, -0.3046,  0.2487]), np.array([ 2.4543, -1.8658, -0.2872]))\n",
    "#(array([-0.3025,  0.3241,  0.233 ]), array([ 0.8955, -1.4391,  4.6021]))\n",
    "#(array([-0.3038,  0.3368,  0.2396]), array([ 0.8731, -1.3125,  4.6623]))\n",
    "T = int(0.375/biped.dT)"
   ]
  },
  {
   "cell_type": "code",
   "execution_count": 7,
   "metadata": {},
   "outputs": [],
   "source": [
    "sln = biped.solve_eqns(q0, dq0, 10, biped.control_parameters)\n",
    "clear_output()\n",
    "\n",
    "#biped.animate(sln, dt = 0.001)"
   ]
  },
  {
   "cell_type": "code",
   "execution_count": 8,
   "metadata": {},
   "outputs": [
    {
     "name": "stdout",
     "output_type": "stream",
     "text": [
      "COT: 1812.72, Dist: 0.326, dT: 0.375\n"
     ]
    }
   ],
   "source": [
    "res = biped.analyse(sln, biped.control_parameters, to_plot=True)"
   ]
  },
  {
   "cell_type": "code",
   "execution_count": 9,
   "metadata": {},
   "outputs": [
    {
     "name": "stdout",
     "output_type": "stream",
     "text": [
      "Real time factor:0.2907611684323586\n"
     ]
    },
    {
     "data": {
      "text/plain": [
       "0.2907611684323586"
      ]
     },
     "execution_count": 9,
     "metadata": {},
     "output_type": "execute_result"
    }
   ],
   "source": [
    "%matplotlib qt \n",
    "biped.animate(sln)"
   ]
  },
  {
   "cell_type": "markdown",
   "metadata": {},
   "source": [
    "#### Try optimizing"
   ]
  },
  {
   "cell_type": "code",
   "execution_count": 8,
   "metadata": {},
   "outputs": [],
   "source": [
    "def opt_func(opt_parameters, num_steps):\n",
    "    print(num_steps)\n",
    "    # extract parameters q0, dq0 and x\n",
    "    q0 = opt_parameters[:3]\n",
    "    dq0 = opt_parameters[3:6]\n",
    "    x = opt_parameters[6:]\n",
    "\n",
    "    # run simulation\n",
    "    sln = biped.solve_eqns(q0, dq0, num_steps, x);\n",
    "    results = biped.analyse(sln, x, False)\n",
    "\n",
    "    # calculate metrics such as distance, mean velocity and cost of transport\n",
    "    effort = results['effort']\n",
    "    distance = np.sum(results['ds'])\n",
    "    frequency = (results['fs'][-1])\n",
    "    velocity = results['total_mean_velocity']\n",
    "    CoT = results['cot']\n",
    "    w1, w2, vd = .1, 0.1, 1.\n",
    "    objective_value = w1*abs(vd - velocity) + w2*CoT\n",
    "    #objective_value = -np.mean(results['ds']) #+ 0.0001*CoT\n",
    "\n",
    "    if distance < 0 or CoT < 0 or velocity < 0:\n",
    "        objective_value = 1000        \n",
    "    print(objective_value)\n",
    "    print(opt_parameters)\n",
    "    return objective_value"
   ]
  },
  {
   "cell_type": "raw",
   "metadata": {},
   "source": [
    "#optimize\n",
    "opt_parameters0 = np.concatenate([q0, dq0, biped.control_parameters])\n",
    "res = fmin(opt_func, opt_parameters0, args = (10,), disp=1, full_output=True, maxiter = 100)"
   ]
  },
  {
   "cell_type": "raw",
   "metadata": {},
   "source": [
    "#extract the optimization result\n",
    "opt_params = res[0]\n",
    "q0 = opt_params[:3]\n",
    "dq0 = opt_params[3:6]\n",
    "params = opt_params[6:]\n",
    "\n",
    "#run simulation using the optimized parameters\n",
    "sln = biped.solve_eqns(q0, dq0, 10, params);\n",
    "%matplotlib qt\n",
    "#biped.animate(sln)"
   ]
  },
  {
   "cell_type": "raw",
   "metadata": {},
   "source": [
    "%matplotlib inline\n",
    "ress = biped.analyse(sln, params, True)\n",
    "print(ress['last_mean_velocity'])\n",
    "print(ress['total_mean_velocity'])"
   ]
  },
  {
   "cell_type": "raw",
   "metadata": {},
   "source": [
    "%matplotlib qt \n",
    "biped.animate(sln)"
   ]
  },
  {
   "cell_type": "raw",
   "metadata": {},
   "source": [
    "ress['last_mean_velocity']"
   ]
  },
  {
   "cell_type": "markdown",
   "metadata": {},
   "source": [
    "### Observe the resulting initial and final configs"
   ]
  },
  {
   "cell_type": "raw",
   "metadata": {},
   "source": [
    "from utils import extract_init_goal\n",
    "\n",
    "y0, yT = extract_init_goal(sln)\n",
    "q0, dq0 = y0[-1,:3], y0[-1,3:]\n",
    "qT, dqT = yT[-1,:3], yT[-1,3:]\n",
    "T = sln['T'][-1][-1] - sln['T'][-1][0]\n",
    "#params = biped.control_parameters\n",
    "sln = biped.solve_eqns(q0, dq0, 10, params)\n",
    "clear_output()\n",
    "\n",
    "res = biped.analyse(sln, params, to_plot=True)"
   ]
  }
 ],
 "metadata": {
  "kernelspec": {
   "display_name": "Python 3",
   "language": "python",
   "name": "python3"
  },
  "language_info": {
   "codemirror_mode": {
    "name": "ipython",
    "version": 3
   },
   "file_extension": ".py",
   "mimetype": "text/x-python",
   "name": "python",
   "nbconvert_exporter": "python",
   "pygments_lexer": "ipython3",
   "version": "3.6.9"
  },
  "toc": {
   "base_numbering": 1,
   "nav_menu": {},
   "number_sections": true,
   "sideBar": true,
   "skip_h1_title": false,
   "title_cell": "Table of Contents",
   "title_sidebar": "Contents",
   "toc_cell": false,
   "toc_position": {},
   "toc_section_display": true,
   "toc_window_display": false
  }
 },
 "nbformat": 4,
 "nbformat_minor": 4
}
