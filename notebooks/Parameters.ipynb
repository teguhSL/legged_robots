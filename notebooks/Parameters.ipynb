{
 "cells": [
  {
   "cell_type": "markdown",
   "metadata": {},
   "source": [
    "# Matlab Parameters"
   ]
  },
  {
   "cell_type": "markdown",
   "metadata": {},
   "source": [
    "#### Velocity optimization"
   ]
  },
  {
   "cell_type": "code",
   "execution_count": null,
   "metadata": {},
   "outputs": [],
   "source": [
    "v = 0.9\n",
    "params = np.array([ -0.3711,   0.3816,   0.1293,   0.6068,  -1.1616,   3.8571, 352.0519, 179.2402,  80.1826,   4.6536,   0.1947])\n",
    "\n",
    "v = 0.86\n",
    "params = np.array([0.347345, -0.366746, 0.000136, -0.000034, 0.000339, 6.361421, 486.788329, 164.948106, 77.080872, 5.045459, 0.173952])\n",
    "\n",
    "v = 0.6 \n",
    "params = np.array([ -0.2264,   0.3305,   0.1016,   0.8884,  -1.0861,   5.3485,\n",
    "       517.1759, 183.6861,  70.4579,   5.8965,   0.1228])    \n",
    "\n",
    "v = 0.5\n",
    " params = np.array([0.341993, -0.416009, 0.000820, 0.000722, 0.001172, 6.450438, 476.012732, 156.719241, 77.309297, 6.410483, 0.041308])\n",
    "\n",
    "v = 0.4\n",
    "params = np.array([-0.269154, 0.333513, 0.005174, 0.870571, -0.159558, 1.932236, 496.289097, 143.620324, 74.776439, 6.936227, 0.001626])\n",
    "x0 = [-0.269154; 0.333513; 0.005174; 0.870571; -0.159558; 1.932236; 496.289097; 143.620324; 74.776439; 6.936227; 0.001626];\n",
    "\n",
    "v = 0.3\n",
    "params = np.array([0.328209, -0.432160, 0.001141, 0.000874, 0.001604, 6.566625, 478.442946, 156.725705, 74.165586, 7.043430, 0.001624])\n",
    "\n",
    "v = 0.25 \n",
    "params = np.array([0.328530, -0.439047, 0.001123, 0.000874, 0.001599, 6.875091, 478.733065, 160.078036, 73.407280, 7.066389, 0.001601])\n",
    "\n",
    "v = 0.2\n",
    "params = np.array([-0.283856, 0.345331, 0.005407, 0.758883, -0.323396, 2.114896, 476.490262, 160.040142, 72.798758, 7.454037, 0.001594])\n",
    "x0 = [-0.283856; 0.345331; 0.005407; 0.758883; -0.323396; 2.114896; 476.490262; 160.040142; 72.798758; 7.454037; 0.001594];\n"
   ]
  },
  {
   "cell_type": "code",
   "execution_count": 18,
   "metadata": {},
   "outputs": [],
   "source": [
    "def print_matlab(params):\n",
    "    print('x0 = [{};{};{};{};{};{};{};{};{};{};{}];'.format(params[0],\n",
    "        params[1],params[2],params[3],params[4],params[5],params[6],params[7],params[8],params[9],params[10]))"
   ]
  },
  {
   "cell_type": "code",
   "execution_count": 22,
   "metadata": {},
   "outputs": [
    {
     "name": "stdout",
     "output_type": "stream",
     "text": [
      "x0 = [0.347345;-0.366746;0.000136;-3.4e-05;0.000339;6.361421;486.788329;164.948106;77.080872;5.045459;0.173952];\n"
     ]
    }
   ],
   "source": [
    "params = np.array([0.347345, -0.366746, 0.000136, -0.000034, 0.000339, 6.361421, 486.788329, 164.948106, 77.080872, 5.045459, 0.173952])\n",
    "print_matlab(params)"
   ]
  },
  {
   "cell_type": "markdown",
   "metadata": {},
   "source": [
    "#### Step length optimization"
   ]
  },
  {
   "cell_type": "code",
   "execution_count": null,
   "metadata": {},
   "outputs": [],
   "source": [
    "s = 0.21\n",
    " params = np.array([-0.168262, 0.260154, -0.014194, 1.858029, 1.356398, 0.034423, 304.269003, 189.627411, 134.508350, -0.045500, -0.183163])\n",
    "x0 = [-0.168262; 0.260154; -0.014194; 1.858029; 1.356398; 0.034423; 304.269003; 189.627411; 134.508350; -0.045500; -0.183163];\n",
    "\n",
    "s = 0.26\n",
    "params = np.array([0.466970, -0.426706, -0.000292, -0.001218, 0.002193, 8.377150, 965.313260, 126.276363, 117.250172, 2.975900, 0.062522])\n",
    "\n",
    "s = 0.28\n",
    "params = np.array([0.397522, -0.461063, -0.000273, -0.001181, 0.001525, 8.663323, 552.689753, 148.084170, 69.236157, 2.942893, 0.103893])\n",
    "\n",
    "s = 0.3 \n",
    "params = np.array([0.374956, -0.415024, 0.000513, 0.000103, 0.000207, 7.830333, 500.498155, 161.839158, 74.033798, 4.669628, 0.103534])\n",
    "\n",
    "s = 0.35 \n",
    "params = np.array([0.349835, -0.403627, 0.000544, 0.000094, 0.000227, 7.014262, 561.515541, 224.953639, 72.726204, 4.404068, 0.077104])\n",
    "\n",
    "s = 0.4\n",
    "params = np.array([-0.037315, -0.610571, 0.000515, 0.000042, 0.156022, 5.790911, 244.527802, 269.296473, 53.476705, 6.514429, 0.156793])\n",
    "x0 = [-0.037315; -0.610571; 0.000515; 0.000042; 0.156022; 5.790911; 244.527802; 269.296473; 53.476705; 6.514429; 0.156793];\n",
    "\n"
   ]
  },
  {
   "cell_type": "markdown",
   "metadata": {},
   "source": [
    "#### Frequency optimization"
   ]
  },
  {
   "cell_type": "code",
   "execution_count": null,
   "metadata": {},
   "outputs": [],
   "source": [
    "f = 3.7\n",
    " params = np.array([-0.168262, 0.260154, -0.014194, 1.858029, 1.356398, 0.034423, 304.269003, 189.627411, 134.508350, -0.045500, -0.183163])\n",
    "x0 = [-0.168262; 0.260154; -0.014194; 1.858029; 1.356398; 0.034423; 304.269003; 189.627411; 134.508350; -0.045500; -0.183163];\n",
    "\n",
    "\n",
    "f = 3.1\n",
    "params = np.array([-0.236131, 0.307839, 0.137983, 0.671299, -1.113151, 4.499133, 687.358046, 136.697506, 82.750343, -0.408726, 0.121647])\n",
    "x0 = [-0.236131; 0.307839; 0.137983; 0.671299; -1.113151; 4.499133; 687.358046; 136.697506; 82.750343; -0.408726; 0.121647];\n",
    "\n",
    "\n",
    "f = 2.75\n",
    "params = np.array([-0.298686, 0.357461, 0.228185, 0.838509, -1.078429, 4.520029, 486.788329, 164.948106, 77.080872, 5.045459, 0.173952])\n",
    "x0 = [-0.298686; 0.357461; 0.228185; 0.838509; -1.078429; 4.520029; 486.788329; 164.948106; 77.080872; 5.045459; 0.173952];\n",
    "\n",
    "\n",
    "f = 1.7\n",
    "params = np.array([0.341993, -0.416009, 0.000820, 0.000722, 0.001172, 6.450438, 476.012732, 156.719241, 77.309297, 6.410483, 0.041308])\n",
    "\n",
    "\n",
    "f = 1.4\n",
    "params = np.array([-0.269154, 0.333513, 0.005174, 0.870571, -0.159558, 1.932236, 496.289097, 143.620324, 74.776439, 6.936227, 0.001626])\n",
    "x0 = [-0.269154; 0.333513; 0.005174; 0.870571; -0.159558; 1.932236; 496.289097; 143.620324; 74.776439; 6.936227; 0.001626];\n",
    "\n",
    "f = 0.7\n",
    "params = np.array([-0.283856, 0.345331, 0.005407, 0.758883, -0.323396, 2.114896, 476.490262, 160.040142, 72.798758, 7.454037, 0.001594])"
   ]
  },
  {
   "cell_type": "code",
   "execution_count": 2,
   "metadata": {},
   "outputs": [],
   "source": [
    "import numpy as np"
   ]
  },
  {
   "cell_type": "code",
   "execution_count": 3,
   "metadata": {},
   "outputs": [],
   "source": [
    "a = np.array([0.325743, -0.437635, 0.001145, 0.000893, 0.001631, 6.500003, 496.289097, 143.620324, 74.776439, 6.936227, 0.001626])"
   ]
  },
  {
   "cell_type": "code",
   "execution_count": 6,
   "metadata": {},
   "outputs": [],
   "source": [
    "np.set_printoptions(precision=5, suppress=True)"
   ]
  },
  {
   "cell_type": "raw",
   "metadata": {},
   "source": [
    "for i in a:\n",
    "    print(1,)"
   ]
  },
  {
   "cell_type": "markdown",
   "metadata": {},
   "source": [
    "#### Internal perturbation"
   ]
  },
  {
   "cell_type": "code",
   "execution_count": null,
   "metadata": {},
   "outputs": [],
   "source": []
  },
  {
   "cell_type": "markdown",
   "metadata": {},
   "source": [
    "#### External perturbation"
   ]
  },
  {
   "cell_type": "code",
   "execution_count": null,
   "metadata": {},
   "outputs": [],
   "source": []
  },
  {
   "cell_type": "markdown",
   "metadata": {},
   "source": [
    "# ILQR parameters"
   ]
  },
  {
   "cell_type": "markdown",
   "metadata": {},
   "source": [
    "#### Velocity optimization"
   ]
  },
  {
   "cell_type": "code",
   "execution_count": null,
   "metadata": {},
   "outputs": [],
   "source": [
    "v = 0.31\n",
    "opt_params = np.array([-0.1706,  0.2755,  0.0522,  1.832 ,  0.9908,  0.0226,  0.0472, 0.255 ])\n",
    "Tc = 268\n",
    "\n",
    "v = 0.877\n",
    "opt_params = np.array([-0.3419,  0.3907,  0.3515,  0.7878, -1.4536,  5.4395,  0.3432,\n",
    "        0.3576])\n",
    "Tc = 421"
   ]
  },
  {
   "cell_type": "markdown",
   "metadata": {},
   "source": [
    "#### Step length optimization"
   ]
  },
  {
   "cell_type": "code",
   "execution_count": null,
   "metadata": {},
   "outputs": [],
   "source": [
    "step_length = 0.117\n",
    "opt_params = np.array([-0.1706,  0.2755,  0.0522,  1.832 ,  0.9908,  0.0226,  0.0472, 0.255 ])\n",
    "Tc = 268\n",
    "\n",
    "step_length = 0.372\n",
    "opt_params = np.array([-0.3419,  0.3907,  0.3515,  0.7878, -1.4536,  5.4395,  0.3432, 0.3576])\n",
    "Tc = 421\n"
   ]
  },
  {
   "cell_type": "markdown",
   "metadata": {},
   "source": [
    "#### Frequency optimization"
   ]
  },
  {
   "cell_type": "code",
   "execution_count": null,
   "metadata": {},
   "outputs": [],
   "source": [
    "f = 3.65\n",
    "opt_params = np.array([-0.169 ,  0.273 ,  0.0522,  1.8437,  0.9886,  0.0224,  0.048 ,\n",
    "        0.2466])\n",
    "Tc = 268\n",
    "\n"
   ]
  },
  {
   "cell_type": "markdown",
   "metadata": {},
   "source": [
    "#### Internal perturbation"
   ]
  },
  {
   "cell_type": "code",
   "execution_count": null,
   "metadata": {},
   "outputs": [],
   "source": []
  },
  {
   "cell_type": "markdown",
   "metadata": {},
   "source": [
    "#### External perturbation"
   ]
  },
  {
   "cell_type": "code",
   "execution_count": null,
   "metadata": {},
   "outputs": [],
   "source": []
  }
 ],
 "metadata": {
  "kernelspec": {
   "display_name": "Python 2",
   "language": "python",
   "name": "python2"
  },
  "language_info": {
   "codemirror_mode": {
    "name": "ipython",
    "version": 2
   },
   "file_extension": ".py",
   "mimetype": "text/x-python",
   "name": "python",
   "nbconvert_exporter": "python",
   "pygments_lexer": "ipython2",
   "version": "2.7.12"
  }
 },
 "nbformat": 4,
 "nbformat_minor": 2
}
