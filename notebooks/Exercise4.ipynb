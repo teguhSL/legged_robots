{
 "cells": [
  {
   "cell_type": "markdown",
   "metadata": {},
   "source": [
    "# Kinematics, Dynamics, Visualization + Control"
   ]
  },
  {
   "cell_type": "code",
   "execution_count": 1,
   "metadata": {},
   "outputs": [],
   "source": [
    "import numpy as np\n",
    "from numpy import sin, cos\n",
    "import matplotlib.pyplot as plt\n",
    "import time\n",
    "from scipy.integrate import solve_ivp\n",
    "\n",
    "from functools import partial\n",
    "\n",
    "from IPython.display import clear_output\n",
    "from ocp import ILQR\n",
    "from costs import *\n",
    "import pdb\n",
    "from utils import subsample\n",
    "\n",
    "np.set_printoptions(precision=4, suppress=True)\n",
    "%load_ext autoreload\n",
    "%autoreload 2"
   ]
  },
  {
   "cell_type": "code",
   "execution_count": 57,
   "metadata": {},
   "outputs": [],
   "source": [
    "class Biped():\n",
    "    def __init__(self, m1 = 7, m2 = 7, m3 = 17,\n",
    "                l1 = 0.5, l2 = 0.5, l3 = 0.35, g = 9.81, dT = 0.001, control_opt = 'std'):\n",
    "        self.m1 = m1\n",
    "        self.m2 = m2\n",
    "        self.m3 = m3\n",
    "        self.l1 = l1\n",
    "        self.l2 = l2\n",
    "        self.l3 = l3\n",
    "        self.g = g\n",
    "        self.dT = dT\n",
    "        self.control_parameters = np.array([457.5, 161, 77.05, 5, 10.4*np.pi/180])  \n",
    "        self.control_opt = control_opt\n",
    "        self.Dx = 6\n",
    "        self.Du = 2\n",
    "       \n",
    "    def set_control(self, control_opt = 'std', ilqr = None):\n",
    "        self.control_opt = control_opt\n",
    "        if control_opt == 'ilqr':\n",
    "            self.ilqr = ilqr\n",
    "            \n",
    "        self.nn = NearestNeighbors(n_neighbors=1)\n",
    "        self.nn.fit(ilqr.xs)\n",
    "\n",
    "    def kin_hip(self, q, dq = None):\n",
    "        if dq is None: dq = np.zeros(3)\n",
    "        \n",
    "        x_h = self.l1*sin(q[0])  \n",
    "        z_h = self.l1*cos(q[0])  \n",
    "        dx_h = self.l1*cos(q[0])*dq[0]  \n",
    "        dz_h = -self.l1*sin(q[0])*dq[0]\n",
    "\n",
    "        return x_h, z_h, dx_h, dz_h\n",
    "    \n",
    "    \n",
    "    def compute_Jacobian_vhip(self, q, dq):\n",
    "        J = np.zeros((2,6))\n",
    "        J[0,0] = -self.l1*sin(q[0])*dq[0]\n",
    "        J[0,3] = self.l1*cos(q[0])\n",
    "        J[1,0] = -self.l1*cos(q[0])*dq[0]\n",
    "        J[1,3] = -self.l1*sin(q[0])\n",
    "        return J\n",
    "\n",
    "    def kin_swf(self, q, dq = None):\n",
    "        if dq is None: dq = np.zeros(3)\n",
    "        \n",
    "        x_swf = self.l1*sin(q[0]) - self.l2*sin(q[1])  \n",
    "        z_swf = self.l1*cos(q[0]) - self.l2*cos(q[1])\n",
    "        dx_swf = self.l1*cos(q[0])*dq[0] - self.l2*cos(q[1])*dq[1]  \n",
    "        dz_swf = -self.l1*sin(q[0])*dq[0] + self.l2*sin(q[1])*dq[1]\n",
    "        return x_swf, z_swf, dx_swf, dz_swf\n",
    "    \n",
    "    def compute_Jacobian_swf(self, q, dq = None):\n",
    "        J = np.zeros((2,3))\n",
    "        J[0,0] = self.l1*cos(q[0])\n",
    "        J[0,1] = -self.l2*cos(q[1])\n",
    "        J[1,0] = -self.l1*sin(q[0])\n",
    "        J[1,1] = self.l2*sin(q[1])\n",
    "        return J\n",
    "    \n",
    "    \n",
    "    def eval_A_m(self, q_m):\n",
    "        t2 = q_m[0]-q_m[1]\n",
    "        t3 = cos(t2)\n",
    "        t4 = self.l1**2\n",
    "        t5 = self.m1*t4*0.25\n",
    "        t6 = q_m[0] - q_m[2]\n",
    "        t7 = cos(t6)\n",
    "        t8 = self.l3**2\n",
    "        m, m3 = self.m1, self.m3\n",
    "        l1,l2,l3 = self.l1, self.l2, self.l3\n",
    "        A_m = np.array([t5-l1*l2*m*t3-l1*l2*m3*t3-l1*l3*m3*t7*(1.0/2.0), \n",
    "                        t5,l1*l3*m3*t7*(-1.0/2.0),l2**2*m*(1.0/4.0),0.0,0.0,\\\n",
    "                        m3*t8*(-1.0/4.0)-l2*l3*m3*cos(q_m[1]-q_m[2])*(1.0/2.0),\\\n",
    "                        0.0,m3*t8*(-1.0/4.0)]).reshape(3,3).T\n",
    "        return A_m\n",
    "    \n",
    "    def eval_A_p(self, q_p):\n",
    "        q1_p = q_p[0]\n",
    "        q2_p = q_p[1]\n",
    "        q3_p = q_p[2]\n",
    "        m, m3, l1, l2, l3 = self.m1, self.m3, self.l1, self.l2, self.l3\n",
    "        \n",
    "        t2 = l1**2;\n",
    "        t3 = q1_p-q2_p;\n",
    "        t4 = cos(t3);\n",
    "        t5 = l1*l2*m*t4*(1.0/2.0);\n",
    "        t6 = q1_p-q3_p;\n",
    "        t7 = cos(t6);\n",
    "        t8 = l2**2;\n",
    "        t9 = l3**2;\n",
    "        A_p = np.array([t5-m*t2*(5.0/4.0)-m3*t2-l1*l3*m3*t7*(1.0/2.0),t5,l1*l3*m3*t7*(-1.0/2.0),t5-m*t8*(1.0/4.0),\n",
    "                       m*t8*(-1.0/4.0),0.0,m3*t9*(-1.0/4.0)-l1*l3*m3*t7*(1.0/2.0),0.0,m3*t9*(-1.0/4.0)]).reshape(3,3).T\n",
    "        return A_p\n",
    "    \n",
    "    def eval_B(self):\n",
    "        B = np.array([1.0,0.0,0.0, 1.0,-1.0,-1.0]).reshape(3,2)\n",
    "        return B\n",
    "    \n",
    "    def eval_C(self, q, dq):\n",
    "        q1, q2, q3 = q[0], q[1], q[2]\n",
    "        dq1, dq2, dq3 = dq[0], dq[1], dq[2]\n",
    "\n",
    "        m1, m2, m3, l1, l2, l3 =  self.m1, self.m2,  self.m3, self.l1, self.l2, self.l3\n",
    "\n",
    "        t2 = q1-q2\n",
    "        t3 = sin(t2)\n",
    "        t4 = q1-q3\n",
    "        t5 = sin(t4)\n",
    "        C = np.array([0.0,dq1*l1*l2*m2*t3*(1.0/2.0),dq1*l1*l3*m3*t5*(-1.0/2.0),\n",
    "                      dq2*l1*l2*m2*t3*(-1.0/2.0),0.0,0.0,dq3*l1*l3*m3*t5*(1.0/2.0),0.0,0.0]).reshape(3,3).T\n",
    "        return C\n",
    "    \n",
    "    def eval_energy(self, q, dq):\n",
    "        q1, q2, q3 = q[0], q[1], q[2]\n",
    "        dq1, dq2, dq3 = dq[0], dq[1], dq[2]\n",
    "\n",
    "        m1, m2, m3, l1, l2, l3, g =  self.m1, self.m2,  self.m3, self.l1, self.l2, self.l3, self.g\n",
    "\n",
    "        T = (dq1**2*l1**2*m1)/8 + (dq1**2*l1**2*m2)/2 + (dq1**2*l1**2*m3)/2 + (dq2**2*l2**2*m2)/8 + (dq3**2*l3**2*m3)/8 - (dq1*dq2*l1*l2*m2*cos(q1 - q2))/2 + (dq1*dq3*l1*l3*m3*cos(q1 - q3))/2;\n",
    "        V = g*m2*(l1*cos(q1) - (l2*cos(q2))/2) + g*m3*(l1*cos(q1) + (l3*cos(q3))/2) + (g*l1*m1*cos(q1))/2;\n",
    "        return T, V\n",
    "    \n",
    "    def eval_G(self, q):\n",
    "        q1, q2, q3 = q[0], q[1], q[2]\n",
    "        m1, m2, m3, l1, l2, l3, g =  self.m1, self.m2,  self.m3, self.l1, self.l2, self.l3, self.g\n",
    "        \n",
    "        G = np.array([g*l1*sin(q1)*(m1+m2*2.0+m3*2.0)*(-1.0/2.0)\n",
    "                      ,g*l2*m2*sin(q2)*(1.0/2.0),g*l3*m3*sin(q3)*(-1.0/2.0)])\n",
    "        return G\n",
    "    \n",
    "    def eval_M(self, q):\n",
    "        q1, q2, q3 = q[0], q[1], q[2]\n",
    "        m1, m2, m3, l1, l2, l3, g =  self.m1, self.m2,  self.m3, self.l1, self.l2, self.l3, self.g\n",
    "\n",
    "        t2 = q1-q2;\n",
    "        t3 = cos(t2);\n",
    "        t4 = q1-q3;\n",
    "        t5 = cos(t4);\n",
    "        t6 = l1*l3*m3*t5*(1.0/2.0);\n",
    "        M = np.array([l1**2*(m1*(1.0/4.0)+m2+m3),l1*l2*m2*t3*(-1.0/2.0),\n",
    "                      t6,l1*l2*m2*t3*(-1.0/2.0),l2**2*m2*(1.0/4.0),0.0,\n",
    "                      t6,0.0,l3**2*m3*(1.0/4.0)]).reshape(3,3)\n",
    "        return M\n",
    "    \n",
    "    def impact(self, q_m, dq_m):\n",
    "        q_p = np.array([q_m[1], q_m[0], q_m[2]])\n",
    "        A_m = self.eval_A_m(q_m);\n",
    "        A_p = self.eval_A_p(q_p);\n",
    "        dq_p = np.linalg.pinv(A_p).dot(A_m).dot(dq_m)\n",
    "        return q_p, dq_p\n",
    "    \n",
    "    def control(self, t, q, dq, parameters):\n",
    "        kp1 = parameters[0];\n",
    "        kp2 = parameters[1];\n",
    "        kd1 = parameters[2];\n",
    "        kd2 = parameters[3];\n",
    "        alpha = parameters[4];\n",
    "\n",
    "        y1 = q[2]-alpha;\n",
    "        y1d = dq[2];\n",
    "        y2 = -q[1]-q[0];\n",
    "        y2d = -dq[1]-dq[0];\n",
    "\n",
    "        u1 = kp1*y1 + kd1*y1d;\n",
    "\n",
    "        u2 = kp2*y2 + kd2*y2d;\n",
    "\n",
    "        u1 = max(min(u1, 30), -30) \n",
    "        u2 = max(min(u2, 30), -30) \n",
    "        u = np.array([u1, u2])\n",
    "        return u\n",
    "    \n",
    "    def control_ilqr(self, t, y, t0):\n",
    "        t_step = int((t- t0)/self.dT)\n",
    "        #print(t_step)\n",
    "        if t_step >= len(self.ilqr.K):\n",
    "            t_step = len(self.ilqr.K)-1\n",
    "        #calculate t_step based on the nearest neighbor\n",
    "        #dist = np.linalg.norm(y - ilqr.xs, axis=1)\n",
    "        #t_step = np.argmin(dist)\n",
    "#         dist, idx = self.nn.kneighbors(y[None,:])\n",
    "#         t_step = idx[0][0]\n",
    "#         #print(t_step)\n",
    "#         if t_step >= len(self.ilqr.K):\n",
    "#             t_step = len(self.ilqr.K)-1\n",
    "        \n",
    "        u = self.ilqr.us[t_step] + self.ilqr.K[t_step].dot(y-self.ilqr.xs[t_step])\n",
    "        #u = np.zeros(self.Du)\n",
    "        return u\n",
    "    \n",
    "    def eqns(self, t, y, t0,  parameters):    \n",
    "        q = y[:3]\n",
    "        dq = y[3:]\n",
    "        \n",
    "        M = self.eval_M(q)\n",
    "        C = self.eval_C(q, dq)\n",
    "        G = self.eval_G(q)\n",
    "        B = self.eval_B()\n",
    "        if self.control_opt == 'std':\n",
    "            u = self.control(t, q, dq, parameters)\n",
    "        else:\n",
    "            u = self.control_ilqr(t, y, t0)\n",
    "            \n",
    "        n = 6\n",
    "        dy = np.zeros(n)\n",
    "        dy[:3] = y[3:]\n",
    "        #dy[3:] = np.linalg.inv(M).dot(-C.dot(dq) - G + B.dot(u))\n",
    "        dy[3:] = np.linalg.solve(M, -C.dot(dq) - G + B.dot(u))\n",
    "        return dy\n",
    "    \n",
    "    def step(self, y, u):\n",
    "        q = y[:3]\n",
    "        dq = y[3:]\n",
    "        M = self.eval_M(q)\n",
    "        C = self.eval_C(q, dq)\n",
    "        G = self.eval_G(q)\n",
    "        B = self.eval_B()\n",
    "        dy = np.zeros(6)\n",
    "        dy[:3] = y[3:]\n",
    "        dy[3:] = np.linalg.solve(M, -C.dot(dq) - G + B.dot(u))\n",
    "        ynext = y + dy*self.dT\n",
    "        return ynext\n",
    "    \n",
    "    def compute_matrices(self, y, u, inc = 1e-3):\n",
    "        Dx = len(y)\n",
    "        Du = len(u)\n",
    "        A = np.zeros((Dx, Dx))\n",
    "        B = np.zeros((Dx, Du))\n",
    "        \n",
    "        #compute A\n",
    "        y0, u0 = y.copy(), u.copy()\n",
    "        for i in range(Dx):\n",
    "            y0p = y0.copy()\n",
    "            y0p[i] += inc\n",
    "            dyp = self.step(y0p,u0)\n",
    "\n",
    "            y0m = y0.copy()\n",
    "            y0m[i] -= inc\n",
    "            dym = self.step(y0m,u0)\n",
    "            \n",
    "            diff = (dyp - dym)/(2*inc)\n",
    "            \n",
    "            A[:,i] = diff\n",
    "            \n",
    "        #compute B\n",
    "        y0, u0 = y.copy(), u.copy()\n",
    "        for i in range(Du):\n",
    "            u0p = u0.copy()\n",
    "            u0p[i] += inc\n",
    "            dup = self.step(y0,u0p)\n",
    "\n",
    "            u0m = u0.copy()\n",
    "            u0m[i] -= inc\n",
    "            dum = self.step(y0,u0m)\n",
    "            \n",
    "            diff = (dup - dum)/(2*inc)\n",
    "            \n",
    "            B[:,i] = diff\n",
    "            \n",
    "        return A, B\n",
    "            \n",
    "    def solve_eqns(self, q0, dq0, num_steps, parameters, retrain = False):\n",
    "        \n",
    "        #options = odeset('RelTol',1e-5, 'Events', @event_func);\n",
    "        h = self.dT; # time step\n",
    "        tmax = 2; # max time that we allow for a single step\n",
    "        tspan = np.arange(0, tmax, h)\n",
    "        y0 = np.concatenate([q0, dq0])\n",
    "        t0 = 0\n",
    "\n",
    "        sln = {'T' : [], 'Y' : [], 'TE' : [], 'YE' : []}\n",
    "        \n",
    "        for i in range(num_steps):\n",
    "            tic = time.time()\n",
    "            eqns_std = partial(biped.eqns, t0 = t0, parameters = parameters )\n",
    "            if self.control_opt == 'ilqr' and retrain == True:\n",
    "                self.ilqr.set_init_state(y0.copy())\n",
    "                self.set_init_state(y0.copy())\n",
    "                #us = np.zeros((self.ilqr.T+1, self.Du))\n",
    "                x = y0.copy()\n",
    "                us = []\n",
    "                for k in range(self.ilqr.T+1):\n",
    "                    u = self.control(0, x[:3], x[3:], params)\n",
    "                    x = self.step(x, u)\n",
    "                    us += [u]\n",
    "                us = np.array(us)\n",
    "                xs = self.rollout(us)\n",
    "                us = np.concatenate([us, np.zeros((1, self.Du))], axis=0)\n",
    "                #xs[0] = y0.copy()\n",
    "                self.ilqr.set_state(xs, us)\n",
    "                self.ilqr.solve(10)\n",
    "                clear_output()\n",
    "            print(y0, t0)\n",
    "            print(tspan, np.arange(t0, t0+tmax-1e-4, h))\n",
    "            tspan = np.arange(t0, t0+tmax-1e-4, h)\n",
    "            sol = solve_ivp(eqns_std, (t0, t0+tmax),  y0, t_eval = np.arange(t0, t0+tmax-1e-4, h), events = event_func, rtol = 1e-5)            \n",
    "            toc = time.time()\n",
    "            print(len(sol.t))\n",
    "            sln['T'] += [sol.t]\n",
    "            sln['Y'] += [sol.y.T]\n",
    "            sln['TE'] += [sol.t_events]\n",
    "\n",
    "            if np.abs(sol.t[-1]- tmax) < 1e-4:\n",
    "                break\n",
    "\n",
    "            if len(sol.t_events) == 0:\n",
    "                break\n",
    "\n",
    "            # Impact map\n",
    "            q_m = sol.y.T[-1,:3]\n",
    "            dq_m = sol.y.T[-1,3:]\n",
    "            q_p, dq_p = self.impact(q_m, dq_m)\n",
    "\n",
    "            y0 = np.concatenate([q_p, dq_p])\n",
    "            t0 = sol.t[-1]\n",
    "            tspan = np.arange(t0, t0+tmax-1e-4, h)\n",
    "            print(tspan)\n",
    "        return sln\n",
    "    \n",
    "    def analyse(self, sln, parameters,  to_plot = True, Umax = 30):\n",
    "        x_hs = []\n",
    "        dx_hs_mean = []\n",
    "        dx_hs = []\n",
    "\n",
    "        z_hs = []\n",
    "        dz_hs = []\n",
    "        \n",
    "        z_swfs = []\n",
    "        dz_swfs = []\n",
    "        \n",
    "\n",
    "        qs = []\n",
    "        dqs = []\n",
    "        us = []\n",
    "\n",
    "        t_hs = []\n",
    "\n",
    "        fs = []\n",
    "        ds = []\n",
    "        effort = 0\n",
    "        cot = 0\n",
    "        \n",
    "        for i in range(len(sln['Y'])):\n",
    "            Y = sln['Y'][i]\n",
    "            T = sln['T'][i]\n",
    "            t0 = T[0]\n",
    "            t_hs += [T]\n",
    "            dt = T[-1] - T[0]\n",
    "            f = 1.0/dt\n",
    "            fs += [f]\n",
    "\n",
    "            for j in range(len(Y)):\n",
    "                t = T[j]\n",
    "                y = Y[j]\n",
    "                x_h, z_h, dx_h, dz_h =  self.kin_hip(y[:3], y[3:])\n",
    "                x_hs += [x_h]\n",
    "                dx_hs += [dx_h]\n",
    "                z_hs += [z_h]\n",
    "                dz_hs += [dz_h]\n",
    "\n",
    "                x_swf, z_swf, dx_swf, dz_swf =  self.kin_swf(y[:3], y[3:])\n",
    "                z_swfs += [z_swf]\n",
    "                \n",
    "                \n",
    "                qs += [y[:3]]\n",
    "                dqs += [y[3:]]\n",
    "                if self.control_opt == 'std':\n",
    "                    u = self.control(t, y[:3], y[3:],parameters);\n",
    "                elif self.control_opt == 'ilqr':\n",
    "                    u = self.control_ilqr(t, y, t0);\n",
    "                    \n",
    "                us += [u]\n",
    "\n",
    "            y = Y[0]\n",
    "            x_h0, z_h0, dx_h, dz_h =  self.kin_hip(y[:3], y[3:])\n",
    "            y = Y[-1]\n",
    "            x_hT, z_hT, dx_h, dz_h =  self.kin_hip(y[:3], y[3:])\n",
    "            d = x_hT - x_h0\n",
    "            ds += [d]\n",
    "\n",
    "            dx_hs_mean += [d/dt]\n",
    "\n",
    "        results = dict();\n",
    "        results['x_h'] = np.array(x_hs)\n",
    "        results['dx_h'] = np.array(dx_hs)\n",
    "        results['z_h'] = np.array(z_hs)\n",
    "        results['dz_h'] = np.array(dz_hs)\n",
    "        results['z_swf'] = np.array(z_swfs)\n",
    "        results['t_h'] = np.concatenate(t_hs)\n",
    "        \n",
    "        results['qs'] = np.array(qs)\n",
    "        results['dqs'] = np.array(dqs)\n",
    "        results['us'] = np.array(us)\n",
    "\n",
    "        results['fs'] = np.array(fs)\n",
    "        results['ds'] = np.array(ds)\n",
    "        \n",
    "        T = results['t_h'][-1]\n",
    "        results['effort'] = np.sum(results['us'][:,0]**2 + results['us'][:,1]**2)/(2*T*Umax)\n",
    "        results['cot'] = results['effort']/np.sum(results['ds'])\n",
    "\n",
    "        results['dx_hs_mean'] = np.array(dx_hs_mean)\n",
    "        results['mean_velocity'] = np.sum(results['ds'])/T\n",
    "        \n",
    "        if to_plot:\n",
    "            plt.figure()\n",
    "            plt.plot(results['t_h'], (results['x_h']))\n",
    "            plt.title('xh')\n",
    "            plt.figure()\n",
    "            plt.plot(results['t_h'], (results['z_h']))\n",
    "            plt.title('zh')\n",
    "            for j in range(3):\n",
    "                plt.figure()\n",
    "                plt.plot(results['qs'][:,j], results['dqs'][:,j])\n",
    "                plt.title('phase plot '+str(j))\n",
    "            \n",
    "            plt.figure()\n",
    "            plt.plot(results['t_h'], (results['dx_h']))\n",
    "            plt.title('dxh')\n",
    "\n",
    "            plt.figure()\n",
    "            plt.plot(results['t_h'], (results['z_swf']))\n",
    "            plt.title('z_swf')\n",
    "            \n",
    "#             plt.figure()\n",
    "#             plt.plot((results['dx_hs_mean']))\n",
    "#             plt.title('dhh_mean')\n",
    "\n",
    "#             plt.figure()\n",
    "#             plt.plot((results['fs'][1:]), '-o')\n",
    "#             plt.title('fs')\n",
    "            \n",
    "#             plt.figure()\n",
    "#             plt.plot((results['ds'][0:]), '-o')\n",
    "#             plt.title('ds')\n",
    "\n",
    "#             for j in range(2):\n",
    "#                 plt.figure()\n",
    "#                 plt.plot(results['t_h'], (results['us'][:,j]))\n",
    "#                 plt.title('us'+str(j))\n",
    "\n",
    "            \n",
    "        return results\n",
    "    \n",
    "    def visualize(self, q, r0 = None, fig = None, figsize = (10,10)):\n",
    "        if fig is None:     \n",
    "            if self.fig is None: self.fig = plt.figure(figsize=figsize)\n",
    "        else:\n",
    "            self.fig = fig\n",
    "        if r0 is None: r0 = np.zeros(2)\n",
    "\n",
    "        x0 = r0[0];\n",
    "        z0 = r0[1];\n",
    "\n",
    "        l1, l2, l3 = self.l1, self.l2, self.l3 \n",
    "        q1, q2, q3 = q[0], q[1], q[2]\n",
    "\n",
    "        x1 = (l1*sin(q1))/2 + x0;\n",
    "        z1 = (l1*cos(q1))/2 + z0;\n",
    "        x2 = l1*sin(q1) - (l2*sin(q2))/2 + x0;\n",
    "        z2 = l1*cos(q1) - (l2*cos(q2))/2 + z0;\n",
    "        x3 = l1*sin(q1) + (l3*sin(q3))/2 + x0;\n",
    "        z3 = l1*cos(q1) + (l3*cos(q3))/2 + z0;\n",
    "\n",
    "        x_h = l1*sin(q1) + x0;\n",
    "        z_h = l1*cos(q1) + z0;\n",
    "\n",
    "        x_t = l1*sin(q1) + l3*sin(q3) + x0;\n",
    "        z_t = l1*cos(q1) + l3*cos(q3) + z0;\n",
    "\n",
    "        x_swf = l1*sin(q1) - l2*sin(q2) + x0;\n",
    "        z_swf = l1*cos(q1) - l2*cos(q2) + z0;\n",
    "\n",
    "        lw = 5;\n",
    "        # links\n",
    "        if self.line1 is None:\n",
    "            self.line1, = plt.plot([x0, x_h], [z0, z_h], linewidth = lw); \n",
    "            self.line2, = plt.plot([x_h, x_t], [z_h, z_t], linewidth = lw); \n",
    "            self.line3, = plt.plot([x_h, x_swf], [z_h, z_swf], linewidth = lw);\n",
    "            # plot a line for \"ground\"\n",
    "            self.lineg, = plt.plot([-1 + x_h, 1 + x_h], [0, 0], 'b');\n",
    "            plt.axis('equal')\n",
    "            plt.xlim([-1 + x_h, 1 + x_h]);\n",
    "            plt.ylim([-0.8, 1.2]);\n",
    "            # point masses\n",
    "            mz = 15;\n",
    "            self.marker1, = plt.plot(x1, z1, '.', markersize = mz); \n",
    "            self.marker2, = plt.plot(x2, z2, '.',  markersize = mz); \n",
    "            self.marker3, = plt.plot(x3, z3, '.',  markersize = mz);\n",
    "        else:\n",
    "            self.line1.set_xdata([x0, x_h])\n",
    "            self.line1.set_ydata([z0, z_h])\n",
    "            self.line2.set_xdata([x_h, x_t])\n",
    "            self.line2.set_ydata([z_h, z_t])\n",
    "            self.line3.set_xdata([x_h, x_swf])\n",
    "            self.line3.set_ydata([z_h, z_swf])\n",
    "            self.marker1.set_xdata(x1)\n",
    "            self.marker1.set_ydata(z1)\n",
    "            self.marker2.set_xdata(x2)\n",
    "            self.marker2.set_ydata(z2)\n",
    "            self.marker3.set_xdata(x3)\n",
    "            self.marker3.set_ydata(z3)          \n",
    "            self.lineg.set_xdata( [-1 + x_h, 1 + x_h])\n",
    "            self.lineg.set_ydata( [0, 0])\n",
    "            plt.xlim([-1 + x_h, 1 + x_h]);\n",
    "            self.fig.canvas.draw()\n",
    "            plt.pause(1e-6)\n",
    "            self.fig.canvas.flush_events()\n",
    "        \n",
    "    def animate(self, sln, dt = 0.01, skip = 10):\n",
    "        tic = time.time();\n",
    "        self.line1, self.line2, self.line3 = None, None, None\n",
    "        self.marker1, self.marker2, self.marker3 = None, None, None\n",
    "        self.fig = plt.figure(figsize=(10,10))\n",
    "\n",
    "        num_steps = len(sln['T'])\n",
    "        r0 = np.zeros(2)\n",
    "        for j in range(num_steps):\n",
    "            Y = sln['Y'][j]\n",
    "            N = len(Y)\n",
    "            for i in range(0, N, skip):\n",
    "                q = Y[i, :3]\n",
    "                time.sleep(dt)\n",
    "                self.visualize(q, r0, fig = self.fig)\n",
    "            x0, _,_,_ = self.kin_swf(q)\n",
    "            r0 = r0 + np.array([x0, 0])\n",
    "\n",
    "        toc = time.time()\n",
    "        \n",
    "        real_time_factor = sln['T'][-1][-1] / (toc-tic)\n",
    "        print('Real time factor:{}'.format(real_time_factor))\n",
    "        return real_time_factor\n",
    "    \n",
    "    def set_init_state(self,x0):\n",
    "        self.x0 = x0\n",
    "\n",
    "    \n",
    "    def rollout(self,us):\n",
    "        x_cur = self.x0.copy()\n",
    "        xs = [x_cur]\n",
    "        T = len(us)\n",
    "        for i in range(T):\n",
    "            x_cur = self.step(x_cur, us[i])\n",
    "            xs += [x_cur]\n",
    "        return np.array(xs)\n",
    "    \n",
    "def event_func(t, y):\n",
    "    q = y[:3]\n",
    "    dq = y[3:]\n",
    "\n",
    "    _, z_swf, _,_ = biped.kin_swf(q, dq)\n",
    "    value = z_swf + 0.01* cos(q[0]) + 0.0001\n",
    "    return value\n",
    "event_func.terminal = 1\n",
    "event_func.direction = -1"
   ]
  },
  {
   "cell_type": "code",
   "execution_count": 58,
   "metadata": {},
   "outputs": [],
   "source": [
    "from sklearn.neighbors import NearestNeighbors"
   ]
  },
  {
   "cell_type": "markdown",
   "metadata": {},
   "source": [
    "#### Try solving and analyse result"
   ]
  },
  {
   "cell_type": "code",
   "execution_count": 59,
   "metadata": {},
   "outputs": [],
   "source": [
    "%matplotlib qt"
   ]
  },
  {
   "cell_type": "code",
   "execution_count": 60,
   "metadata": {},
   "outputs": [],
   "source": [
    "biped = Biped()\n",
    "q0 = np.array([np.pi/9, -np.pi/9, 0.])\n",
    "dq0 = np.array([0.,0.,8.])"
   ]
  },
  {
   "cell_type": "code",
   "execution_count": 61,
   "metadata": {},
   "outputs": [],
   "source": [
    "sln = biped.solve_eqns(q0, dq0, 10, biped.control_parameters)\n",
    "clear_output()"
   ]
  },
  {
   "cell_type": "raw",
   "metadata": {},
   "source": [
    "biped.animate(sln, dt = 0.001)"
   ]
  },
  {
   "cell_type": "code",
   "execution_count": 62,
   "metadata": {},
   "outputs": [],
   "source": [
    "res = biped.analyse(sln, biped.control_parameters, to_plot=False)"
   ]
  },
  {
   "cell_type": "code",
   "execution_count": 63,
   "metadata": {},
   "outputs": [
    {
     "data": {
      "text/plain": [
       "2060.8294346549337"
      ]
     },
     "execution_count": 63,
     "metadata": {},
     "output_type": "execute_result"
    }
   ],
   "source": [
    "res['cot']"
   ]
  },
  {
   "cell_type": "raw",
   "metadata": {},
   "source": [
    "plt.plot(res['z_swf'])"
   ]
  },
  {
   "cell_type": "markdown",
   "metadata": {},
   "source": [
    "#### Try optimizing"
   ]
  },
  {
   "cell_type": "raw",
   "metadata": {},
   "source": [
    "from scipy.optimize import fmin\n",
    "\n",
    "def opt_func(opt_parameters):\n",
    "    # extract parameters q0, dq0 and x\n",
    "    q0 = opt_parameters[:3]\n",
    "    dq0 = opt_parameters[3:6]\n",
    "    x = opt_parameters[6:]\n",
    "\n",
    "    # run simulation\n",
    "    num_steps = 10 # the higher the better, but slow\n",
    "    sln = biped.solve_eqns(q0, dq0, num_steps, x);\n",
    "    results = biped.analyse(sln, x, False)\n",
    "\n",
    "    # calculate metrics such as distance, mean velocity and cost of transport\n",
    "    max_actuation = 30;\n",
    "    effort = results['effort']\n",
    "    distance = np.sum(results['ds'])\n",
    "    velocity = results['mean_velocity']\n",
    "    CoT = results['cot']\n",
    "    w1 = 1\n",
    "    w2 = 0.001\n",
    "    vd = .9\n",
    "    objective_value = w1*abs(vd - velocity) + w2*CoT\n",
    "\n",
    "    if distance < 0:\n",
    "        objective_value = 1000\n",
    "        \n",
    "    print(objective_value)\n",
    "\n",
    "    return objective_value"
   ]
  },
  {
   "cell_type": "raw",
   "metadata": {},
   "source": [
    "opt_parameters0 = np.concatenate([q0, dq0, biped.control_parameters])\n",
    "res = fmin(opt_func, opt_parameters0, disp=1, full_output=True, maxiter = 40)\n",
    "clear_output()"
   ]
  },
  {
   "cell_type": "raw",
   "metadata": {},
   "source": [
    "opt_params = res[0]\n",
    "q0 = opt_params[:3]\n",
    "dq0 = opt_params[3:6]\n",
    "params = opt_params[6:]\n",
    "\n",
    "sln = biped.solve_eqns(q0, dq0, 10, params);\n",
    "%matplotlib qt\n",
    "biped.animate(sln)"
   ]
  },
  {
   "cell_type": "raw",
   "metadata": {},
   "source": [
    "result = biped.analyse(sln,params, to_plot = False)"
   ]
  },
  {
   "cell_type": "markdown",
   "metadata": {},
   "source": [
    "### Observe the resulting initial and final configs"
   ]
  },
  {
   "cell_type": "code",
   "execution_count": 64,
   "metadata": {},
   "outputs": [],
   "source": [
    "Y = np.array(sln['Y'])\n",
    "\n",
    "y0 = []\n",
    "yT = []\n",
    "for i in range(len(Y)):\n",
    "    y0 += [Y[i][0]]\n",
    "    yT += [Y[i][-1]]\n",
    "y0 = np.array(y0)\n",
    "yT = np.array(yT)\n",
    "\n",
    "q0, dq0 = y0[-1,:3], y0[-1,3:]\n",
    "qT, dqT = yT[-1,:3], yT[-1,3:]\n",
    "T = sln['T'][-1][-1] - sln['T'][-1][0]\n",
    "\n",
    "params = biped.control_parameters\n",
    "T = 0.375"
   ]
  },
  {
   "cell_type": "raw",
   "metadata": {},
   "source": [
    "#q0, dq0 = (np.array([-0.3035,  0.3608,  0.2487]), np.array([ 0.8319, -1.1396,  4.6439]))\n",
    "#qT, dqT = (np.array([ 0.3623, -0.3046,  0.2487]), np.array([ 2.4543, -1.8658, -0.2872]))\n",
    "q0, dq0 = (np.array([-0.2846,  0.3455,  0.03]), np.array([0.779 , -0.4112,  2.4312]))\n",
    "qT, dqT = (np.array([ 0.3457, -0.2849,  0.03]), np.array([1.6708, -1.4453,  0.0117]))\n",
    "#qT, dqT = (np.array([ 0.30, -0.30,  0.13]), np.array([1.6708, -1.4453,  0.0117]))\n",
    "\n",
    "T = 0.734\n",
    "#T = 0.375\n",
    "#params = np.array([546.8429, 164.4735,  85.4593,   6.4294,   0.0252])\n",
    "params = np.array([546.8429, 164.4735,  85.4593,   6.4294,   0.0252])"
   ]
  },
  {
   "cell_type": "code",
   "execution_count": 66,
   "metadata": {},
   "outputs": [],
   "source": [
    "sln = biped.solve_eqns(q0, dq0, 5, params)\n",
    "clear_output()"
   ]
  },
  {
   "cell_type": "raw",
   "metadata": {},
   "source": [
    "biped.animate(sln)"
   ]
  },
  {
   "cell_type": "code",
   "execution_count": 67,
   "metadata": {},
   "outputs": [],
   "source": [
    "res = biped.analyse(sln, params, to_plot=False)"
   ]
  },
  {
   "cell_type": "code",
   "execution_count": 68,
   "metadata": {},
   "outputs": [
    {
     "name": "stdout",
     "output_type": "stream",
     "text": [
      "3598.1243224599807\n"
     ]
    }
   ],
   "source": [
    "print(res['cot'])"
   ]
  },
  {
   "cell_type": "raw",
   "metadata": {},
   "source": [
    "## Try using iLQR"
   ]
  },
  {
   "cell_type": "markdown",
   "metadata": {},
   "source": [
    "### One step motion using standard controller"
   ]
  },
  {
   "cell_type": "code",
   "execution_count": 69,
   "metadata": {},
   "outputs": [],
   "source": [
    "y0 = np.concatenate([q0, dq0])\n",
    "yT = np.concatenate([qT, dqT])"
   ]
  },
  {
   "cell_type": "code",
   "execution_count": 70,
   "metadata": {},
   "outputs": [],
   "source": [
    "y = y0.copy()\n",
    "ys = [y]\n",
    "us = []\n",
    "zswfs = []\n",
    "x_h0, _,_,_ = biped.kin_hip(y[:3])\n",
    "for h in range(int(T/0.001)):\n",
    "    u = biped.control(0, y[:3], y[3:],params)\n",
    "    y = biped.step(y, u)\n",
    "    _,z_swf,_,_ = biped.kin_swf(y[:3])\n",
    "    zswfs += [z_swf]\n",
    "    ys += [y]\n",
    "    us += [u]\n",
    "    \n",
    "x_hT , _,dx_hT,dz_hT = biped.kin_hip(y[:3])\n",
    "dist = x_hT-x_h0\n",
    "ys = np.array(ys)\n",
    "us = np.array(us)\n",
    "zswfs = np.array(zswfs)"
   ]
  },
  {
   "cell_type": "code",
   "execution_count": 71,
   "metadata": {},
   "outputs": [],
   "source": [
    "fig = plt.figure(figsize=(10,10))\n",
    "biped.fig = fig\n",
    "biped.line1 = None\n",
    "for y in ys[::10]:\n",
    "    biped.visualize(y[:3], fig=fig)\n",
    "    time.sleep(0.001)"
   ]
  },
  {
   "cell_type": "markdown",
   "metadata": {},
   "source": [
    "#### Evaluate"
   ]
  },
  {
   "cell_type": "code",
   "execution_count": 72,
   "metadata": {},
   "outputs": [
    {
     "name": "stdout",
     "output_type": "stream",
     "text": [
      "(5870.379863487107, 18047.395348870734)\n"
     ]
    }
   ],
   "source": [
    "effort = np.sum(us[:,0]**2 + us[:,1]**2)/(2*T*30)\n",
    "cot = effort / dist\n",
    "print(effort, cot)"
   ]
  },
  {
   "cell_type": "markdown",
   "metadata": {},
   "source": [
    "## Try ILQR"
   ]
  },
  {
   "cell_type": "code",
   "execution_count": 73,
   "metadata": {},
   "outputs": [],
   "source": [
    "Tc = int(T/biped.dT)\n",
    "dt = biped.dT"
   ]
  },
  {
   "cell_type": "code",
   "execution_count": 74,
   "metadata": {},
   "outputs": [],
   "source": [
    "x_ref = yT.copy()\n",
    "x0 = y0.copy()\n",
    "biped.set_init_state(x0)\n",
    "xs = biped.rollout(us)"
   ]
  },
  {
   "cell_type": "code",
   "execution_count": 75,
   "metadata": {},
   "outputs": [],
   "source": [
    "xs = subsample(xs, Tc+1)\n",
    "us = subsample(us, Tc+1)"
   ]
  },
  {
   "cell_type": "markdown",
   "metadata": {},
   "source": [
    "#### Define cost"
   ]
  },
  {
   "cell_type": "code",
   "execution_count": 76,
   "metadata": {},
   "outputs": [],
   "source": [
    "x_ref[2] = 0.2487"
   ]
  },
  {
   "cell_type": "code",
   "execution_count": 111,
   "metadata": {},
   "outputs": [],
   "source": [
    "Q = np.eye(biped.Dx)*0.1\n",
    "# Q[0,1] = 100.\n",
    "# Q[1,0] = -100.\n",
    "Q[2,2] = 100\n",
    "Qf = np.eye(biped.Dx)*10\n",
    "R = np.eye(biped.Du)*.01\n",
    "mu = 1e-6\n",
    "\n",
    "#swing trajectory\n",
    "Wt = np.eye(2)*5000\n",
    "Wt[0,0] = 0\n",
    "z_refs = np.linspace(0.01, -.00, Tc)\n",
    "\n",
    "#end foot traj\n",
    "WT = np.eye(2)*5000\n",
    "p_ref = np.array([0.31, -0.01])\n",
    "\n",
    "#velocity of hip\n",
    "Wv = np.eye(2)*0\n",
    "#Wv[1,1] *= 0.01\n",
    "v_ref = np.array([.8, 0])\n",
    "\n",
    "costs = []\n",
    "for i in range(Tc):\n",
    "    runningStateCostShort = CostModelQuadratic(biped, Q, x_ref = x_ref)\n",
    "    runningControlCostShort = CostModelQuadratic(biped, None, R)\n",
    "    p_ref_t = np.array([0, z_refs[i]])\n",
    "    runningEECost = CostModelQuadraticTranslation(biped, Wt, p_ref = p_ref_t)\n",
    "    runningCostShort = CostModelSum(biped, [runningStateCostShort, runningControlCostShort, runningEECost])    \n",
    "    costs += [runningCostShort]\n",
    "terminalStateCost = CostModelQuadratic(biped,Qf, x_ref = x_ref)\n",
    "terminalControlCost = CostModelQuadratic(biped, None,R)\n",
    "terminalEEVelCost = CostModelQuadraticLinVel(biped, Wv, p_ref = v_ref)\n",
    "terminalEECost = CostModelQuadraticTranslation(biped, WT, p_ref = p_ref)\n",
    "terminalCost = CostModelSum(biped, [terminalStateCost, terminalControlCost,terminalEECost,terminalEEVelCost ])\n",
    "costs += [terminalCost]\n",
    "\n",
    "\n",
    "\n",
    "# runningStateCost = CostModelQuadratic(biped, Q, x_ref = x_ref)\n",
    "# runningControlCost = CostModelQuadratic(biped, None, R)\n",
    "# # runningEEVelCost = CostModelQuadraticLinVel(biped, 0.001*Wv, p_ref = v_ref)\n",
    "# #runningCost = CostModelSum(biped, [runningStateCost, runningControlCost, runningEEVelCost])\n",
    "# runningCost = CostModelSum(biped, [runningStateCost, runningControlCost])\n",
    "\n",
    "# terminalStateCost = CostModelQuadratic(biped,Qf, x_ref = x_ref)\n",
    "# terminalControlCost = CostModelQuadratic(biped, None,R)\n",
    "# # terminalEEVelCost = CostModelQuadraticLinVel(biped, Wv, p_ref = v_ref)\n",
    "# terminalEECost = CostModelQuadraticTranslation(biped, W, p_ref = p_ref)\n",
    "# terminalCost = CostModelSum(biped, [terminalStateCost, terminalControlCost,terminalEECost ])\n",
    "# costs = [runningCost]*Tc + [terminalCost]\n",
    "\n",
    "#### Setting cost\n",
    "\n",
    "# costs = []\n",
    "# for i in range(Tc):\n",
    "#     runningStateCostShort = CostModelQuadratic(biped, Q, x_ref = ys[i].copy())\n",
    "#     runningControlCostShort = CostModelQuadratic(biped, None, R)\n",
    "#     runningCostShort = CostModelSum(biped, [runningStateCostShort, runningControlCostShort])        \n",
    "#     costs += [runningCostShort]\n",
    "    \n",
    "# terminalStateCost = CostModelQuadratic(biped,Qf, x_ref = x_ref)\n",
    "# terminalControlCost = CostModelQuadratic(biped, None,R)\n",
    "# terminalCost = CostModelSum(biped, [terminalStateCost, terminalControlCost])\n",
    "# costs += [terminalCost]"
   ]
  },
  {
   "cell_type": "markdown",
   "metadata": {},
   "source": [
    "#### Define iLQR"
   ]
  },
  {
   "cell_type": "code",
   "execution_count": 112,
   "metadata": {},
   "outputs": [],
   "source": [
    "us = np.concatenate([us, np.zeros((1, biped.Du))], axis=0)"
   ]
  },
  {
   "cell_type": "code",
   "execution_count": 113,
   "metadata": {},
   "outputs": [],
   "source": [
    "ilqr = ILQR(biped)\n",
    "ilqr.set_init_state(x0)\n",
    "ilqr.set_timestep(Tc)\n",
    "ilqr.set_cost(costs)"
   ]
  },
  {
   "cell_type": "code",
   "execution_count": 114,
   "metadata": {},
   "outputs": [],
   "source": [
    "ilqr.set_state(xs, us)\n",
    "ilqr.solve(10)\n",
    "clear_output()\n",
    "xs, us = ilqr.xs, ilqr.us"
   ]
  },
  {
   "cell_type": "code",
   "execution_count": 115,
   "metadata": {},
   "outputs": [
    {
     "data": {
      "text/plain": [
       "[<matplotlib.lines.Line2D at 0x7fcde8617950>]"
      ]
     },
     "execution_count": 115,
     "metadata": {},
     "output_type": "execute_result"
    }
   ],
   "source": [
    "plt.plot(ilqr.us[:,0])\n"
   ]
  },
  {
   "cell_type": "code",
   "execution_count": 116,
   "metadata": {},
   "outputs": [
    {
     "data": {
      "text/plain": [
       "(0.3025841028991577, -0.00775396652384569, 0.0, -0.0)"
      ]
     },
     "execution_count": 116,
     "metadata": {},
     "output_type": "execute_result"
    }
   ],
   "source": [
    "biped.kin_swf(xs[-1][:3])"
   ]
  },
  {
   "cell_type": "code",
   "execution_count": 117,
   "metadata": {},
   "outputs": [
    {
     "name": "stdout",
     "output_type": "stream",
     "text": [
      "[ 0.3331 -0.2819  0.2688  2.3408 -1.4604 -0.1821]\n",
      "[ 0.3621 -0.3043  0.2487  2.4521 -1.8659 -0.2882]\n"
     ]
    },
    {
     "data": {
      "text/plain": [
       "array([ 0.31, -0.01])"
      ]
     },
     "execution_count": 117,
     "metadata": {},
     "output_type": "execute_result"
    }
   ],
   "source": [
    "print(xs[-1])\n",
    "print(x_ref)\n",
    "p_ref"
   ]
  },
  {
   "cell_type": "code",
   "execution_count": 118,
   "metadata": {},
   "outputs": [],
   "source": [
    "fig = plt.figure(figsize=(10,10))\n",
    "biped.fig = fig\n",
    "biped.line1 = None\n",
    "zswfs = []\n",
    "\n",
    "for y in xs[::10]:\n",
    "    biped.visualize(y[:3], fig=fig)\n",
    "    time.sleep(0.01)\n",
    "    _,z_swf,_,_ = biped.kin_swf(y[:3])\n",
    "    zswfs += [z_swf]\n",
    "zswfs = np.array(zswfs)\n"
   ]
  },
  {
   "cell_type": "code",
   "execution_count": 119,
   "metadata": {},
   "outputs": [
    {
     "data": {
      "text/plain": [
       "[<matplotlib.lines.Line2D at 0x7fcde302f450>]"
      ]
     },
     "execution_count": 119,
     "metadata": {},
     "output_type": "execute_result"
    }
   ],
   "source": [
    "plt.plot(zswfs)"
   ]
  },
  {
   "cell_type": "markdown",
   "metadata": {},
   "source": [
    "#### Evaluate"
   ]
  },
  {
   "cell_type": "raw",
   "metadata": {},
   "source": [
    "effort = np.sum(us[:,0]**2 + us[:,1]**2)/(2*T*30)\n",
    "cot = effort / dist\n",
    "print(effort, cot)"
   ]
  },
  {
   "cell_type": "markdown",
   "metadata": {},
   "source": [
    "### One step motion using ilqr controller"
   ]
  },
  {
   "cell_type": "code",
   "execution_count": 120,
   "metadata": {},
   "outputs": [],
   "source": [
    "biped.set_control('ilqr', ilqr)"
   ]
  },
  {
   "cell_type": "code",
   "execution_count": 121,
   "metadata": {},
   "outputs": [],
   "source": [
    "y0 = np.concatenate([q0, dq0])\n",
    "yT = np.concatenate([qT, dqT])"
   ]
  },
  {
   "cell_type": "code",
   "execution_count": 122,
   "metadata": {},
   "outputs": [],
   "source": [
    "y = y0.copy()\n",
    "ys = [y]\n",
    "us = []\n",
    "zswfs = []\n",
    "x_h0, _,_,_ = biped.kin_hip(y[:3])\n",
    "for h in range(int(T/biped.dT)):\n",
    "    u = biped.control_ilqr(h*biped.dT, y, 0)\n",
    "    y = biped.step(y, u)\n",
    "    _,z_swf,_,_ = biped.kin_swf(y[:3])\n",
    "    zswfs += [z_swf]\n",
    "    ys += [y]\n",
    "    us += [u]\n",
    "    \n",
    "x_hT , _,_,_ = biped.kin_hip(y[:3])\n",
    "dist = x_hT-x_h0\n",
    "#ys = np.array(ys)\n",
    "#us = np.array(us)\n",
    "#zswfs = np.array(zswfs)\n",
    "clear_output()"
   ]
  },
  {
   "cell_type": "code",
   "execution_count": 123,
   "metadata": {},
   "outputs": [],
   "source": [
    "%matplotlib inline"
   ]
  },
  {
   "cell_type": "code",
   "execution_count": 124,
   "metadata": {},
   "outputs": [],
   "source": [
    "sln = biped.solve_eqns(q0, dq0,1, params)\n",
    "clear_output()"
   ]
  },
  {
   "cell_type": "code",
   "execution_count": 125,
   "metadata": {},
   "outputs": [],
   "source": [
    "res_ys = sln['Y'][0]"
   ]
  },
  {
   "cell_type": "code",
   "execution_count": 126,
   "metadata": {},
   "outputs": [
    {
     "data": {
      "text/plain": [
       "[<matplotlib.lines.Line2D at 0x7fcde84e0f90>]"
      ]
     },
     "execution_count": 126,
     "metadata": {},
     "output_type": "execute_result"
    },
    {
     "data": {
      "image/png": "[encoded data removed]",
      "text/plain": [
       "<Figure size 432x288 with 1 Axes>"
      ]
     },
     "metadata": {
      "needs_background": "light"
     },
     "output_type": "display_data"
    }
   ],
   "source": [
    "idx = 0\n",
    "plt.plot(res_ys[:,idx])\n",
    "plt.plot(ilqr.xs[:,idx], '--r')"
   ]
  },
  {
   "cell_type": "code",
   "execution_count": 127,
   "metadata": {},
   "outputs": [
    {
     "data": {
      "text/plain": [
       "[<matplotlib.lines.Line2D at 0x7fcde346ead0>]"
      ]
     },
     "execution_count": 127,
     "metadata": {},
     "output_type": "execute_result"
    },
    {
     "data": {
      "image/png": "[encoded data removed]",
      "text/plain": [
       "<Figure size 432x288 with 1 Axes>"
      ]
     },
     "metadata": {
      "needs_background": "light"
     },
     "output_type": "display_data"
    }
   ],
   "source": [
    "plt.plot(zswfs)"
   ]
  },
  {
   "cell_type": "code",
   "execution_count": 128,
   "metadata": {},
   "outputs": [],
   "source": [
    "%matplotlib qt"
   ]
  },
  {
   "cell_type": "code",
   "execution_count": 129,
   "metadata": {},
   "outputs": [],
   "source": [
    "fig = plt.figure(figsize=(10,10))\n",
    "biped.fig = fig\n",
    "biped.line1 = None\n",
    "ys = np.array(ys)\n",
    "us = np.array(us)\n",
    "for y in ys[::10]:\n",
    "    biped.visualize(y[:3], fig=fig)\n",
    "    time.sleep(0.005)"
   ]
  },
  {
   "cell_type": "markdown",
   "metadata": {},
   "source": [
    "#### retrain the iLQR"
   ]
  },
  {
   "cell_type": "raw",
   "metadata": {},
   "source": [
    "ys = sln['Y'][0]"
   ]
  },
  {
   "cell_type": "raw",
   "metadata": {},
   "source": [
    "y0n = np.concatenate(biped.impact(ys[-1][:3], ys[-1][3:]))\n",
    "#y0n = np.concatenate(y0n)\n",
    "ilqr.set_init_state(y0n)\n",
    "biped.set_init_state(y0n)\n",
    "#compute init guess\n",
    "x = y0n.copy()\n",
    "xss = [x]\n",
    "us = []\n",
    "for h in range(ilqr.T+1):\n",
    "    u = biped.control(0, x[:3], x[3:], params)\n",
    "    x = biped.step(x, u)\n",
    "    us += [u]\n",
    "    xss += [x]\n",
    "us = np.array(us)\n",
    "xss = np.array(xss)\n",
    "#us = np.zeros((ilqr.T, biped.Du))\n",
    "xs = biped.rollout(us)\n",
    "us = np.concatenate([us, np.zeros((1, biped.Du))], axis=0)\n",
    "ilqr.set_state(xs, us)"
   ]
  },
  {
   "cell_type": "raw",
   "metadata": {},
   "source": [
    "fig = plt.figure(figsize=(10,10))\n",
    "biped.fig = fig\n",
    "biped.line1 = None\n",
    "for y in xss[::10]:\n",
    "    biped.visualize(y[:3], fig=fig)\n",
    "    time.sleep(0.005)"
   ]
  },
  {
   "cell_type": "raw",
   "metadata": {},
   "source": [
    "ilqr.solve(10)\n",
    "clear_output()"
   ]
  },
  {
   "cell_type": "raw",
   "metadata": {},
   "source": [
    "fig = plt.figure(figsize=(10,10))\n",
    "biped.fig = fig\n",
    "biped.line1 = None\n",
    "for y in ilqr.xs[::10]:\n",
    "    biped.visualize(y[:3], fig=fig)\n",
    "    time.sleep(0.005)"
   ]
  },
  {
   "cell_type": "raw",
   "metadata": {},
   "source": [
    "biped.ilqr = ilqr"
   ]
  },
  {
   "cell_type": "raw",
   "metadata": {},
   "source": [
    "for k in range(1):\n",
    "    #y0n = np.concatenate(biped.impact(ys[-1][:3], ys[-1][3:]))\n",
    "\n",
    "    y = y0n.copy()\n",
    "    x_h0, _,_,_ = biped.kin_hip(y[:3])\n",
    "    for h in range(int(T/biped.dT)):\n",
    "        u = biped.control_ilqr(h*biped.dT, y, 0)\n",
    "        y = biped.step(y, u)\n",
    "        _,z_swf,_,_ = biped.kin_swf(y[:3])\n",
    "        zswfs += [z_swf]\n",
    "        ys += [y]\n",
    "        us += [u]\n",
    "    \n",
    "x_hT , _,_,_ = biped.kin_hip(y[:3])\n",
    "dist = x_hT-x_h0\n",
    "ys = np.array(ys)\n",
    "us = np.array(us)\n",
    "zswfs = np.array(zswfs)\n",
    "clear_output()"
   ]
  },
  {
   "cell_type": "raw",
   "metadata": {},
   "source": [
    "plt.plot(zswfs)"
   ]
  },
  {
   "cell_type": "raw",
   "metadata": {},
   "source": [
    "fig = plt.figure(figsize=(10,10))\n",
    "biped.fig = fig\n",
    "biped.line1 = None\n",
    "for y in ys[::10]:\n",
    "    biped.visualize(y[:3], fig=fig)\n",
    "    time.sleep(0.005)"
   ]
  },
  {
   "cell_type": "markdown",
   "metadata": {},
   "source": [
    "#### Try simulation with ilqr"
   ]
  },
  {
   "cell_type": "code",
   "execution_count": 130,
   "metadata": {},
   "outputs": [],
   "source": [
    "sln = biped.solve_eqns(q0, dq0,5, params, True)\n",
    "clear_output()"
   ]
  },
  {
   "cell_type": "code",
   "execution_count": 131,
   "metadata": {},
   "outputs": [
    {
     "name": "stdout",
     "output_type": "stream",
     "text": [
      "Real time factor:0.302473557188\n"
     ]
    },
    {
     "data": {
      "text/plain": [
       "0.3024735571882456"
      ]
     },
     "execution_count": 131,
     "metadata": {},
     "output_type": "execute_result"
    }
   ],
   "source": [
    "biped.animate(sln)"
   ]
  },
  {
   "cell_type": "code",
   "execution_count": 55,
   "metadata": {},
   "outputs": [],
   "source": [
    "res = biped.analyse(sln, params, False)"
   ]
  },
  {
   "cell_type": "code",
   "execution_count": 56,
   "metadata": {},
   "outputs": [
    {
     "name": "stdout",
     "output_type": "stream",
     "text": [
      "3507.9326791901904\n"
     ]
    }
   ],
   "source": [
    "print(res['cot'])"
   ]
  },
  {
   "cell_type": "code",
   "execution_count": 1401,
   "metadata": {},
   "outputs": [],
   "source": [
    "q0n, dq0n = y0n[:3], y0n[3:]"
   ]
  },
  {
   "cell_type": "code",
   "execution_count": 1402,
   "metadata": {},
   "outputs": [
    {
     "data": {
      "image/png": "[encoded data removed]",
      "text/plain": [
       "<Figure size 720x720 with 1 Axes>"
      ]
     },
     "metadata": {
      "needs_background": "light"
     },
     "output_type": "display_data"
    }
   ],
   "source": [
    "sln2 = biped.solve_eqns(q0n, dq0n, 2, params);\n",
    "%matplotlib qt\n",
    "biped.animate(sln2)\n",
    "clear_output()"
   ]
  },
  {
   "cell_type": "code",
   "execution_count": 157,
   "metadata": {},
   "outputs": [],
   "source": [
    "y = y0n.copy()\n",
    "ys = [y]\n",
    "us = []\n",
    "zswfs = []\n",
    "x_h0, _,_,_ = biped.kin_hip(y[:3])\n",
    "for h in range(int(2.*T/biped.dT)):\n",
    "    u = biped.control_ilqr(h*biped.dT, y, 0)\n",
    "    y = biped.step(y, u)\n",
    "    _,z_swf,_,_ = biped.kin_swf(y[:3])\n",
    "    zswfs += [z_swf]\n",
    "    ys += [y]\n",
    "    us += [u]\n",
    "    \n",
    "x_hT , _,_,_ = biped.kin_hip(y[:3])\n",
    "dist = x_hT-x_h0\n",
    "ys = np.array(ys)\n",
    "us = np.array(us)\n",
    "zswfs = np.array(zswfs)\n",
    "clear_output()"
   ]
  },
  {
   "cell_type": "code",
   "execution_count": 158,
   "metadata": {},
   "outputs": [],
   "source": [
    "fig = plt.figure(figsize=(10,10))\n",
    "biped.fig = fig\n",
    "biped.line1 = None\n",
    "for y in ys[::10]:\n",
    "    biped.visualize(y[:3], fig=fig)\n",
    "    time.sleep(0.005)"
   ]
  },
  {
   "cell_type": "code",
   "execution_count": null,
   "metadata": {},
   "outputs": [],
   "source": []
  },
  {
   "cell_type": "code",
   "execution_count": null,
   "metadata": {},
   "outputs": [],
   "source": []
  },
  {
   "cell_type": "code",
   "execution_count": null,
   "metadata": {},
   "outputs": [],
   "source": []
  },
  {
   "cell_type": "code",
   "execution_count": null,
   "metadata": {},
   "outputs": [],
   "source": []
  },
  {
   "cell_type": "code",
   "execution_count": null,
   "metadata": {},
   "outputs": [],
   "source": []
  },
  {
   "cell_type": "code",
   "execution_count": null,
   "metadata": {},
   "outputs": [],
   "source": []
  },
  {
   "cell_type": "code",
   "execution_count": null,
   "metadata": {},
   "outputs": [],
   "source": []
  },
  {
   "cell_type": "code",
   "execution_count": null,
   "metadata": {},
   "outputs": [],
   "source": []
  },
  {
   "cell_type": "markdown",
   "metadata": {},
   "source": [
    "#### Compare against matlab"
   ]
  },
  {
   "cell_type": "raw",
   "metadata": {},
   "source": [
    "print('kin_hip', biped.kin_hip(q0, dq0))\n",
    "print('kin_swf', biped.kin_swf(q0, dq0))\n",
    "print('Am', biped.eval_A_m(q0))\n",
    "print('Ap', biped.eval_A_p(q0))\n",
    "print('B', biped.eval_B())\n",
    "print('C', biped.eval_C(q0, dq0))\n",
    "print('E', biped.eval_energy(q0, dq0))\n",
    "print('G', biped.eval_G(q0))\n",
    "print('M', biped.eval_M(q0))\n",
    "print('impact', biped.impact(q0, dq0))\n",
    "y = np.concatenate([q0, dq0])\n",
    "print('eqn', biped.eqns(0,y, y, 0, biped.control_parameters))\n",
    "\n",
    "\n",
    "biped.visualize(q0)\n",
    "biped.animate(sln)"
   ]
  }
 ],
 "metadata": {
  "kernelspec": {
   "display_name": "Python 3",
   "language": "python",
   "name": "python3"
  },
  "language_info": {
   "codemirror_mode": {
    "name": "ipython",
    "version": 2
   },
   "file_extension": ".py",
   "mimetype": "text/x-python",
   "name": "python",
   "nbconvert_exporter": "python",
   "pygments_lexer": "ipython2",
   "version": "2.7.12"
  },
  "toc": {
   "base_numbering": 1,
   "nav_menu": {},
   "number_sections": true,
   "sideBar": true,
   "skip_h1_title": false,
   "title_cell": "Table of Contents",
   "title_sidebar": "Contents",
   "toc_cell": false,
   "toc_position": {},
   "toc_section_display": true,
   "toc_window_display": false
  }
 },
 "nbformat": 4,
 "nbformat_minor": 2
}
